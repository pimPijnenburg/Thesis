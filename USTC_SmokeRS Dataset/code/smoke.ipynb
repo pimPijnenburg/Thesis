{
 "cells": [
  {
   "cell_type": "code",
   "execution_count": 6,
   "metadata": {},
   "outputs": [
    {
     "data": {
      "text/html": [
       "<div>\n",
       "<style scoped>\n",
       "    .dataframe tbody tr th:only-of-type {\n",
       "        vertical-align: middle;\n",
       "    }\n",
       "\n",
       "    .dataframe tbody tr th {\n",
       "        vertical-align: top;\n",
       "    }\n",
       "\n",
       "    .dataframe thead th {\n",
       "        text-align: right;\n",
       "    }\n",
       "</style>\n",
       "<table border=\"1\" class=\"dataframe\">\n",
       "  <thead>\n",
       "    <tr style=\"text-align: right;\">\n",
       "      <th></th>\n",
       "      <th>class</th>\n",
       "      <th>red_channel</th>\n",
       "      <th>green_channel</th>\n",
       "      <th>blue_channel</th>\n",
       "    </tr>\n",
       "  </thead>\n",
       "  <tbody>\n",
       "    <tr>\n",
       "      <th>0</th>\n",
       "      <td>3</td>\n",
       "      <td>[108, 107, 114, 126, 115, 110, 117, 125, 127, ...</td>\n",
       "      <td>[92, 90, 97, 109, 99, 97, 102, 109, 111, 98, 9...</td>\n",
       "      <td>[72, 72, 76, 85, 77, 75, 80, 86, 88, 79, 80, 8...</td>\n",
       "    </tr>\n",
       "    <tr>\n",
       "      <th>1</th>\n",
       "      <td>3</td>\n",
       "      <td>[44, 50, 50, 53, 43, 37, 39, 40, 43, 49, 53, 5...</td>\n",
       "      <td>[52, 59, 61, 66, 55, 48, 47, 41, 43, 49, 57, 5...</td>\n",
       "      <td>[44, 50, 48, 51, 43, 40, 43, 48, 54, 61, 60, 4...</td>\n",
       "    </tr>\n",
       "    <tr>\n",
       "      <th>2</th>\n",
       "      <td>3</td>\n",
       "      <td>[40, 41, 40, 46, 51, 48, 47, 48, 39, 30, 38, 4...</td>\n",
       "      <td>[32, 33, 34, 40, 44, 42, 42, 42, 33, 25, 32, 3...</td>\n",
       "      <td>[20, 21, 23, 28, 32, 31, 30, 30, 23, 15, 19, 2...</td>\n",
       "    </tr>\n",
       "    <tr>\n",
       "      <th>3</th>\n",
       "      <td>3</td>\n",
       "      <td>[139, 144, 154, 154, 155, 154, 151, 146, 145, ...</td>\n",
       "      <td>[105, 107, 115, 116, 117, 117, 115, 113, 113, ...</td>\n",
       "      <td>[86, 86, 92, 93, 94, 94, 94, 93, 92, 89, 87, 8...</td>\n",
       "    </tr>\n",
       "    <tr>\n",
       "      <th>4</th>\n",
       "      <td>3</td>\n",
       "      <td>[40, 32, 57, 52, 37, 38, 43, 33, 19, 24, 20, 1...</td>\n",
       "      <td>[39, 33, 56, 53, 37, 38, 42, 33, 19, 21, 18, 1...</td>\n",
       "      <td>[37, 30, 52, 50, 35, 36, 40, 31, 17, 19, 15, 9...</td>\n",
       "    </tr>\n",
       "  </tbody>\n",
       "</table>\n",
       "</div>"
      ],
      "text/plain": [
       "   class                                        red_channel  \\\n",
       "0      3  [108, 107, 114, 126, 115, 110, 117, 125, 127, ...   \n",
       "1      3  [44, 50, 50, 53, 43, 37, 39, 40, 43, 49, 53, 5...   \n",
       "2      3  [40, 41, 40, 46, 51, 48, 47, 48, 39, 30, 38, 4...   \n",
       "3      3  [139, 144, 154, 154, 155, 154, 151, 146, 145, ...   \n",
       "4      3  [40, 32, 57, 52, 37, 38, 43, 33, 19, 24, 20, 1...   \n",
       "\n",
       "                                       green_channel  \\\n",
       "0  [92, 90, 97, 109, 99, 97, 102, 109, 111, 98, 9...   \n",
       "1  [52, 59, 61, 66, 55, 48, 47, 41, 43, 49, 57, 5...   \n",
       "2  [32, 33, 34, 40, 44, 42, 42, 42, 33, 25, 32, 3...   \n",
       "3  [105, 107, 115, 116, 117, 117, 115, 113, 113, ...   \n",
       "4  [39, 33, 56, 53, 37, 38, 42, 33, 19, 21, 18, 1...   \n",
       "\n",
       "                                        blue_channel  \n",
       "0  [72, 72, 76, 85, 77, 75, 80, 86, 88, 79, 80, 8...  \n",
       "1  [44, 50, 48, 51, 43, 40, 43, 48, 54, 61, 60, 4...  \n",
       "2  [20, 21, 23, 28, 32, 31, 30, 30, 23, 15, 19, 2...  \n",
       "3  [86, 86, 92, 93, 94, 94, 94, 93, 92, 89, 87, 8...  \n",
       "4  [37, 30, 52, 50, 35, 36, 40, 31, 17, 19, 15, 9...  "
      ]
     },
     "metadata": {},
     "output_type": "display_data"
    },
    {
     "name": "stdout",
     "output_type": "stream",
     "text": [
      "--- CLASS MAPPING --- \n",
      "{'Cloud': 0, 'Dust': 1, 'Haze': 2, 'Land': 3, 'Seaside': 4, 'Smoke': 5}\n"
     ]
    }
   ],
   "source": [
    "import pandas as pd\n",
    "import numpy as np \n",
    "import matplotlib.pyplot as plt\n",
    "class_mapping = str({'Cloud': 0, 'Dust': 1, 'Haze': 2, 'Land': 3, 'Seaside': 4, 'Smoke': 5})\n",
    "\n",
    "df = pd.read_parquet('image_df.parquet')\n",
    "display(df.head())\n",
    "print(f'--- CLASS MAPPING --- \\n{class_mapping}')"
   ]
  }
 ],
 "metadata": {
  "kernelspec": {
   "display_name": "Python 3",
   "language": "python",
   "name": "python3"
  },
  "language_info": {
   "codemirror_mode": {
    "name": "ipython",
    "version": 3
   },
   "file_extension": ".py",
   "mimetype": "text/x-python",
   "name": "python",
   "nbconvert_exporter": "python",
   "pygments_lexer": "ipython3",
   "version": "3.10.9"
  }
 },
 "nbformat": 4,
 "nbformat_minor": 2
}
