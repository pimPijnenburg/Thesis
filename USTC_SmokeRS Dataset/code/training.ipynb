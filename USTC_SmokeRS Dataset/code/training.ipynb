{
 "cells": [
  {
   "cell_type": "code",
   "execution_count": 1,
   "metadata": {},
   "outputs": [],
   "source": [
    "import numpy as np \n",
    "import tensorflow as tf\n",
    "import tensorflow.keras.layers as tfl"
   ]
  },
  {
   "cell_type": "code",
   "execution_count": 5,
   "metadata": {},
   "outputs": [],
   "source": [
    "train = tf.data.Dataset.load('/Users/pimpijnenburg/Desktop/Thesis/USTC_SmokeRS Dataset/data/created_data/for_training/train')\n",
    "val = tf.data.Dataset.load('/Users/pimpijnenburg/Desktop/Thesis/USTC_SmokeRS Dataset/data/created_data/for_training/val')\n",
    "test = tf.data.Dataset.load('/Users/pimpijnenburg/Desktop/Thesis/USTC_SmokeRS Dataset/data/created_data/for_training/test')"
   ]
  }
 ],
 "metadata": {
  "kernelspec": {
   "display_name": "Python 3",
   "language": "python",
   "name": "python3"
  },
  "language_info": {
   "codemirror_mode": {
    "name": "ipython",
    "version": 3
   },
   "file_extension": ".py",
   "mimetype": "text/x-python",
   "name": "python",
   "nbconvert_exporter": "python",
   "pygments_lexer": "ipython3",
   "version": "3.10.9"
  }
 },
 "nbformat": 4,
 "nbformat_minor": 2
}
