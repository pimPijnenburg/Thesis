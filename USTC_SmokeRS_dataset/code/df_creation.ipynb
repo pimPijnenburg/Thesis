{
 "cells": [
  {
   "cell_type": "code",
   "execution_count": 3,
   "metadata": {},
   "outputs": [
    {
     "name": "stdout",
     "output_type": "stream",
     "text": [
      "--- CLASS MAPPING --- \n",
      "{'Cloud': 0, 'Dust': 1, 'Haze': 2, 'Land': 3, 'Seaside': 4, 'Smoke': 5}\n",
      "Data saved to: /Users/pimpijnenburg/Desktop/Thesis/USTC_SmokeRS_dataset/data/created_data/smoke_data\n"
     ]
    }
   ],
   "source": [
    "import os \n",
    "import pandas as pd\n",
    "import numpy as np\n",
    "import rasterio\n",
    "from rasterio.plot import show\n",
    "import matplotlib.pyplot as plt\n",
    "from sklearn.preprocessing import LabelEncoder\n",
    "import warnings\n",
    "\n",
    "warnings.filterwarnings('ignore', category=rasterio.errors.NotGeoreferencedWarning)\n",
    "\n",
    "def create_df_from_tif(path): \n",
    "    data = []\n",
    "    for class_folder in os.listdir(path): \n",
    "        class_path = os.path.join(path, class_folder)\n",
    "        if os.path.isdir(class_path):  # Check if it's a directory\n",
    "            for filename in os.listdir(class_path): \n",
    "                if filename.endswith('.tif'):\n",
    "                    file_path = os.path.join(class_path, filename)\n",
    "\n",
    "                    with rasterio.open(file_path) as src: \n",
    "                        image = src.read()\n",
    "\n",
    "                        data.append({\n",
    "                            'class' : class_folder, \n",
    "                            'red_channel' : image[0].flatten(),\n",
    "                            'green_channel': image[1].flatten(),\n",
    "                            'blue_channel' : image[2].flatten()\n",
    "                        })\n",
    "    df = pd.DataFrame(data)\n",
    "    \n",
    "    le = LabelEncoder()\n",
    "    df['class'] = le.fit_transform(df['class'])\n",
    "    class_mapping = dict(zip(le.classes_, le.transform(le.classes_)))\n",
    "    print(f'--- CLASS MAPPING --- \\n{class_mapping}')\n",
    "    \n",
    "    return df\n",
    "\n",
    "path = '/Users/pimpijnenburg/Desktop/Thesis/USTC_SmokeRS_dataset/data/USTC_SmokeRS'\n",
    "output_dir = '/Users/pimpijnenburg/Desktop/Thesis/USTC_SmokeRS_dataset/data/created_data/smoke_data'\n",
    "\n",
    "df = create_df_from_tif(path)\n",
    "output_file = os.path.join(output_dir, 'smoke_data.parquet')\n",
    "df.to_parquet(output_file)\n",
    "\n",
    "print(f\"Data saved to: {output_dir}\")"
   ]
  }
 ],
 "metadata": {
  "kernelspec": {
   "display_name": "Python 3",
   "language": "python",
   "name": "python3"
  },
  "language_info": {
   "codemirror_mode": {
    "name": "ipython",
    "version": 3
   },
   "file_extension": ".py",
   "mimetype": "text/x-python",
   "name": "python",
   "nbconvert_exporter": "python",
   "pygments_lexer": "ipython3",
   "version": "3.12.4"
  }
 },
 "nbformat": 4,
 "nbformat_minor": 2
}
