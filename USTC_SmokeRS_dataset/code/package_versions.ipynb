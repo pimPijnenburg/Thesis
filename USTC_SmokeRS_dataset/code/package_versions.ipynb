{
 "cells": [
  {
   "cell_type": "code",
   "execution_count": 3,
   "metadata": {},
   "outputs": [],
   "source": [
    "import sklearn \n",
    "import xgboost\n",
    "import pandas\n",
    "import numpy\n",
    "import matplotlib\n",
    "import seaborn \n",
    "import PIL\n",
    "import tensorflow\n",
    "import keras\n",
    "import torch "
   ]
  },
  {
   "cell_type": "code",
   "execution_count": 14,
   "metadata": {},
   "outputs": [
    {
     "name": "stdout",
     "output_type": "stream",
     "text": [
      "scikit-learn:   1.5.1\n",
      "XGBoost:        2.1.1\n",
      "pandas:         2.2.2\n",
      "numpy:          1.26.4\n",
      "matplotlib:     3.9.2\n",
      "seaborn:        0.13.2\n",
      "PIL:            10.4.0\n",
      "TensorFlow:     2.16.2\n",
      "keras:          3.6.0\n",
      "pytorch:        2.5.0\n"
     ]
    }
   ],
   "source": [
    "print(f'{\"scikit-learn:\":<15} {sklearn.__version__}')\n",
    "print(f'{\"XGBoost:\":<15} {xgboost.__version__}')\n",
    "print(f'{\"pandas:\":<15} {pandas.__version__}')\n",
    "print(f'{\"numpy:\":<15} {numpy.__version__}')\n",
    "print(f'{\"matplotlib:\":<15} {matplotlib.__version__}')\n",
    "print(f'{\"seaborn:\":<15} {seaborn.__version__}')\n",
    "print(f'{\"PIL:\":<15} {PIL.__version__}')\n",
    "print(f'{\"TensorFlow:\":<15} {tensorflow.__version__}')\n",
    "print(f'{\"keras:\":<15} {keras.__version__}')\n",
    "print(f'{\"pytorch:\":<15} {torch.__version__}')"
   ]
  }
 ],
 "metadata": {
  "kernelspec": {
   "display_name": "env",
   "language": "python",
   "name": "python3"
  },
  "language_info": {
   "codemirror_mode": {
    "name": "ipython",
    "version": 3
   },
   "file_extension": ".py",
   "mimetype": "text/x-python",
   "name": "python",
   "nbconvert_exporter": "python",
   "pygments_lexer": "ipython3",
   "version": "3.11.9"
  }
 },
 "nbformat": 4,
 "nbformat_minor": 2
}
