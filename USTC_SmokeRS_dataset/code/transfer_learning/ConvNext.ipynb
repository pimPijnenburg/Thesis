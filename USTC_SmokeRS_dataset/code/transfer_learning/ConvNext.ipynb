{
 "cells": [
  {
   "cell_type": "code",
   "execution_count": 1,
   "metadata": {},
   "outputs": [],
   "source": [
    "from tensorflow.keras.applications import ConvNeXtSmall\n",
    "from tl_tools import *\n",
    "from tensorflow.keras.optimizers import Adam\n",
    "from tensorflow.keras.preprocessing.image import ImageDataGenerator\n",
    "from tensorflow.keras.callbacks import EarlyStopping, ReduceLROnPlateau\n",
    "import pandas as pd"
   ]
  },
  {
   "cell_type": "code",
   "execution_count": 2,
   "metadata": {},
   "outputs": [
    {
     "name": "stdout",
     "output_type": "stream",
     "text": [
      "Mixed precision policy set to: mixed_float16\n",
      "\n",
      "Found 4980 images belonging to 6 classes.\n",
      "Number of batches in the training data: 312\n",
      "Batch size of a single batch 16\n",
      "Number of samples in the training dataset 4980\n",
      "\n",
      "Number of training data batches with val split of 0.3: 219\n",
      "Number of validation data batches: 93\n",
      "\n",
      "Shape of image training set: (3504, 256, 256, 3)\n",
      "Shape of image validation set: (1476, 256, 256, 3)\n",
      "\n",
      "Shape of label training set: (3504, 6)\n",
      "Shape of label validation set: (1476, 6)\n"
     ]
    }
   ],
   "source": [
    "setup_mixed_precision()\n",
    "train_dir = '/Users/pimpijnenburg/Desktop/Thesis/USTC_SmokeRS_dataset/data/USTC_SmokeRS/processed/train'\n",
    "\n",
    "train_datagen = ImageDataGenerator(rescale=1./255, horizontal_flip=True ,vertical_flip=True)\n",
    "train =train_datagen.flow_from_directory(train_dir, color_mode= 'rgb', batch_size = 16, shuffle= True, seed = 1, target_size=(256, 256))\n",
    "\n",
    "\n",
    "X_train, y_train, X_val, y_val = train_val_split(train, val_split= 0.3)"
   ]
  },
  {
   "cell_type": "code",
   "execution_count": 3,
   "metadata": {},
   "outputs": [
    {
     "name": "stdout",
     "output_type": "stream",
     "text": [
      "Found 1245 images belonging to 6 classes.\n",
      "Number of batches in the test data: 78\n",
      "Batch size of a single batch 16\n",
      "Number of samples in the test dataset 1245\n",
      "\n",
      "Shape of image test set: (1245, 256, 256, 3)\n",
      "\n",
      "Shape of label test set: (1245, 6)\n"
     ]
    }
   ],
   "source": [
    "test_dir = '/Users/pimpijnenburg/Desktop/Thesis/USTC_SmokeRS_dataset/data/USTC_SmokeRS/processed/test'\n",
    "test_datagen = ImageDataGenerator(rescale=1./255)\n",
    "test = test_datagen.flow_from_directory(test_dir, color_mode= 'rgb', batch_size = 16, shuffle= True, seed = 1, target_size=(256, 256))\n",
    "X_test, y_test = test_splits(test)"
   ]
  },
  {
   "cell_type": "code",
   "execution_count": 4,
   "metadata": {},
   "outputs": [],
   "source": [
    "pooling = 'avg'\n",
    "convnext = ConvNeXtSmall(weights= 'imagenet',include_top= False, input_shape= (256, 256, 3), pooling = pooling)\n",
    "convnext.trainable = False\n",
    "\n",
    "model = fc_layers(convnext, name = 'ConvNextSmall')"
   ]
  },
  {
   "cell_type": "code",
   "execution_count": null,
   "metadata": {},
   "outputs": [
    {
     "name": "stdout",
     "output_type": "stream",
     "text": [
      "Epoch 1/50\n"
     ]
    },
    {
     "name": "stderr",
     "output_type": "stream",
     "text": [
      "WARNING: All log messages before absl::InitializeLog() is called are written to STDERR\n",
      "I0000 00:00:1730123808.288523  247287 service.cc:145] XLA service 0x3a6af9fc0 initialized for platform Host (this does not guarantee that XLA will be used). Devices:\n",
      "I0000 00:00:1730123808.288705  247287 service.cc:153]   StreamExecutor device (0): Host, Default Version\n",
      "I0000 00:00:1730123808.388621  247287 device_compiler.h:188] Compiled cluster using XLA!  This line is logged at most once for the lifetime of the process.\n"
     ]
    },
    {
     "name": "stdout",
     "output_type": "stream",
     "text": [
      "\u001b[1m  3/110\u001b[0m \u001b[37m━━━━━━━━━━━━━━━━━━━━\u001b[0m \u001b[1m22:23\u001b[0m 13s/step - F1Score: 0.2173 - accuracy: 0.1979 - loss: 2.2206"
     ]
    }
   ],
   "source": [
    "model.compile(optimizer=Adam(learning_rate = 0.001, clipnorm= 1.0),\n",
    "                     loss='categorical_crossentropy', \n",
    "                     metrics=['accuracy', 'F1Score'])\n",
    "\n",
    "early_stopping = EarlyStopping(monitor='val_loss', patience=15,restore_best_weights=True, start_from_epoch=20)\n",
    "reduce_lr = ReduceLROnPlateau(monitor='val_loss', factor=0.5, patience=10, min_lr=1e-6)\n",
    "\n",
    "history =  model.fit(X_train, y_train, validation_data=(X_val, y_val), epochs=50, verbose=1, \n",
    "                            callbacks= [early_stopping, reduce_lr])"
   ]
  },
  {
   "cell_type": "code",
   "execution_count": 4,
   "metadata": {},
   "outputs": [
    {
     "ename": "NameError",
     "evalue": "name 'convnext' is not defined",
     "output_type": "error",
     "traceback": [
      "\u001b[0;31m---------------------------------------------------------------------------\u001b[0m",
      "\u001b[0;31mNameError\u001b[0m                                 Traceback (most recent call last)",
      "Cell \u001b[0;32mIn[4], line 1\u001b[0m\n\u001b[0;32m----> 1\u001b[0m pred \u001b[38;5;241m=\u001b[39m tf\u001b[38;5;241m.\u001b[39margmax(convnext\u001b[38;5;241m.\u001b[39mpredict(X_test), axis \u001b[38;5;241m=\u001b[39m \u001b[38;5;241m1\u001b[39m)\u001b[38;5;241m.\u001b[39mnumpy()\n\u001b[1;32m      2\u001b[0m y_true \u001b[38;5;241m=\u001b[39m tf\u001b[38;5;241m.\u001b[39margmax(y_test, axis\u001b[38;5;241m=\u001b[39m\u001b[38;5;241m1\u001b[39m)\u001b[38;5;241m.\u001b[39mnumpy()\n",
      "\u001b[0;31mNameError\u001b[0m: name 'convnext' is not defined"
     ]
    }
   ],
   "source": [
    "pred = tf.argmax(convnext.predict(X_test), axis = 1).numpy()\n",
    "y_true = tf.argmax(y_test, axis=1).numpy()"
   ]
  },
  {
   "cell_type": "code",
   "execution_count": null,
   "metadata": {},
   "outputs": [],
   "source": [
    "from sklearn.metrics import confusion_matrix\n",
    "import matplotlib.pyplot as plt\n",
    "import seaborn as sns\n",
    "\n",
    "class_labels = list(test.class_indices.keys())\n",
    "confusion_matrix = confusion_matrix(pred, y_true)\n",
    "\n",
    "\n",
    "plt.figure(figsize=(10, 8))\n",
    "sns.heatmap(confusion_matrix, annot=True, fmt='d', cmap='Blues', \n",
    "            xticklabels=class_labels, yticklabels=class_labels)\n",
    "plt.title('Confusion Matrix')\n",
    "plt.ylabel('True Label')\n",
    "plt.xlabel('Predicted Label')\n",
    "plt.show()"
   ]
  },
  {
   "cell_type": "code",
   "execution_count": null,
   "metadata": {},
   "outputs": [],
   "source": [
    "n_classes = len(class_labels)\n",
    "FP = confusion_matrix.sum(axis=0) - np.diag(confusion_matrix)\n",
    "FN = confusion_matrix.sum(axis=1) - np.diag(confusion_matrix)\n",
    "TP = np.diag(confusion_matrix)\n",
    "TN = confusion_matrix.sum() - (FP + FN + TP)\n",
    "\n",
    "metrics = ['Precision', 'Recall', 'F1-score', 'False Negative Rate']\n",
    "\n",
    "df_metrics = pd.DataFrame(index=metrics, columns=class_labels)\n",
    "\n",
    "for i in range(n_classes):\n",
    "    df_metrics.iloc[0, i] = TP[i] / (TP[i] + FP[i])\n",
    "    df_metrics.iloc[1, i] = TP[i] / (TP[i] + FN[i])\n",
    "    df_metrics.iloc[2, i] = 2 * TP[i] / (2 * TP[i] + FP[i] + FN[i])\n",
    "    df_metrics.iloc[3, i] = FN[i] / (FN[i] + TP[i])  # False Negative Rate\n",
    "\n",
    "def round_fn(input): \n",
    "    return round(input, 4)\n",
    "\n",
    "df_metrics = df_metrics.map(round_fn)\n",
    "df_metrics"
   ]
  },
  {
   "cell_type": "code",
   "execution_count": null,
   "metadata": {},
   "outputs": [],
   "source": [
    "from sklearn.metrics import accuracy_score\n",
    "\n",
    "print(f'Accuracy Score: {accuracy_score(pred, y_true):.4f}')\n",
    "for index, row in df_metrics.iterrows(): \n",
    "    row_mean = row.mean()\n",
    "    print(f'Average {index} Score: {row_mean:.4f}')"
   ]
  },
  {
   "cell_type": "code",
   "execution_count": null,
   "metadata": {},
   "outputs": [],
   "source": [
    "feature_extractor = Model(inputs=convnext.input, outputs=convnext.get_layer('global_average_pooling2d').output)\n",
    "feature_extractor_pred = feature_extractor.predict(X_test)"
   ]
  },
  {
   "cell_type": "code",
   "execution_count": null,
   "metadata": {},
   "outputs": [],
   "source": [
    "from xgboost import XGBClassifier\n",
    "from sklearn.preprocessing import StandardScaler\n",
    "\n",
    "scaler = StandardScaler()\n",
    "feature_extractor_pred = scaler.fit_transform(feature_extractor_pred)\n",
    "feature_extractor_df = pd.DataFrame(feature_extractor_pred)\n",
    "y_true_series = pd.Series(y_true)\n",
    "\n",
    "classifier = XGBClassifier(random_state = 1)\n",
    "classifier.fit(X =feature_extractor_df, y = y_true_series)\n",
    "feature_importances = classifier.feature_importances_\n",
    "feature_importances = pd.Series(feature_importances).sort_values(ascending= False)"
   ]
  },
  {
   "cell_type": "code",
   "execution_count": null,
   "metadata": {},
   "outputs": [],
   "source": [
    "def plot_feature_importances(series, n_plotted): \n",
    "    series = series.sort_values(ascending = False).head(n_plotted)\n",
    "    X = series\n",
    "    y = series.index\n",
    "    plt.figure(figsize = (15, 10))\n",
    "    sns.barplot(x = X, y = y, order = y, orient = 'h', palette = 'viridis', hue = X, legend = False)\n",
    "    \n",
    "    plt.title(f'Top {n_plotted} Feature Importance Scores', fontsize = 14)\n",
    "    plt.xlabel('Importance scores', fontsize = 14)\n",
    "    plt.ylabel('Feature index', fontsize = 14)\n",
    "    \n",
    "    \n",
    "    plt.tight_layout()\n",
    "    plt.show()\n",
    "    \n",
    "plot_feature_importances(feature_importances, 50)"
   ]
  },
  {
   "cell_type": "code",
   "execution_count": null,
   "metadata": {},
   "outputs": [],
   "source": [
    "from sklearn.manifold import TSNE\n",
    "tsne = TSNE(n_components = 2, random_state= 1, perplexity= 30, max_iter = 1000)\n",
    "X_tsne_2d = tsne.fit_transform(feature_extractor_df)\n",
    "\n",
    "plt.figure(figsize=(12, 8))\n",
    "scatter = sns.scatterplot(x=X_tsne_2d[:, 0], y=X_tsne_2d[:, 1], hue=y_true, palette='viridis')\n",
    "label_dict = {i: label for i, label in enumerate(class_labels)}\n",
    "\n",
    "new_labels = [label_dict[int(item.get_text())] for item in scatter.legend_.texts]\n",
    "for t, l in zip(scatter.legend_.texts, new_labels):\n",
    "    t.set_text(l)\n",
    "\n",
    "plt.title('t-SNE visualization of extracted features')\n",
    "plt.xlabel('t-SNE feature 1')\n",
    "plt.ylabel('t-SNE feature 2')\n",
    "plt.tight_layout()\n",
    "plt.show()"
   ]
  },
  {
   "cell_type": "code",
   "execution_count": null,
   "metadata": {},
   "outputs": [],
   "source": [
    "tsne = TSNE(n_components=3, random_state=1, perplexity=30, max_iter =1000)\n",
    "X_tsne_3d = tsne.fit_transform(feature_extractor_df)\n",
    "\n",
    "fig = plt.figure(figsize=(12, 8))\n",
    "ax = fig.add_subplot(111, projection='3d')\n",
    "\n",
    "scatter = ax.scatter(X_tsne_3d[:, 0], X_tsne_3d[:, 1], X_tsne_3d[:, 2], c=y_true, cmap='viridis')\n",
    "ax.set_xlabel('t-SNE feature 1')\n",
    "ax.set_ylabel('t-SNE feature 2')\n",
    "ax.set_zlabel('t-SNE feature 3')\n",
    "ax.set_title('3D t-SNE visualization of extracted features')\n",
    "\n",
    "cbar = plt.colorbar(scatter)\n",
    "cbar.set_ticks(range(len(class_labels)))\n",
    "cbar.set_ticklabels(class_labels)\n",
    "\n",
    "plt.tight_layout()\n",
    "plt.show()"
   ]
  },
  {
   "cell_type": "code",
   "execution_count": null,
   "metadata": {},
   "outputs": [],
   "source": [
    "import plotly.express as px\n",
    "\n",
    "df = pd.DataFrame({\n",
    "    'tsne-1': X_tsne_3d[:, 0],\n",
    "    'tsne-2': X_tsne_3d[:, 1],\n",
    "    'tsne-3': X_tsne_3d[:, 2],\n",
    "    'class': [class_labels[i] for i in y_true]\n",
    "})\n",
    "\n",
    "fig = px.scatter_3d(df, x='tsne-1', y='tsne-2', z='tsne-3',\n",
    "                    color='class', \n",
    "                    title='Interactive 3D t-SNE visualization of extracted features',\n",
    "                    labels={'tsne-1': 't-SNE feature 1', \n",
    "                            'tsne-2': 't-SNE feature 2', \n",
    "                            'tsne-3': 't-SNE feature 3'},\n",
    "                    hover_data=['class'])\n",
    "\n",
    "fig.update_traces(marker=dict(size=5))\n",
    "fig.update_layout(legend=dict(itemsizing='constant'))\n",
    "fig.show()"
   ]
  }
 ],
 "metadata": {
  "kernelspec": {
   "display_name": "Python 3",
   "language": "python",
   "name": "python3"
  },
  "language_info": {
   "codemirror_mode": {
    "name": "ipython",
    "version": 3
   },
   "file_extension": ".py",
   "mimetype": "text/x-python",
   "name": "python",
   "nbconvert_exporter": "python",
   "pygments_lexer": "ipython3",
   "version": "3.12.4"
  }
 },
 "nbformat": 4,
 "nbformat_minor": 2
}
