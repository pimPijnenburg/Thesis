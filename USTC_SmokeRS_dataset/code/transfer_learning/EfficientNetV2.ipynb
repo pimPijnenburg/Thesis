{
 "cells": [
  {
   "cell_type": "code",
   "execution_count": 2,
   "metadata": {},
   "outputs": [],
   "source": [
    "import numpy as np \n",
    "import tensorflow as tf\n",
    "from tensorflow.keras import layers, models\n",
    "from tensorflow.keras.models import Model\n",
    "from tensorflow.keras.callbacks import EarlyStopping\n",
    "import os\n",
    "from tl_tools import *\n",
    "\n",
    "gpus = tf.config.experimental.list_physical_devices('GPU')\n",
    "if gpus:\n",
    "    try:\n",
    "        for gpu in gpus:\n",
    "            tf.config.experimental.set_memory_growth(gpu, True)\n",
    "    except RuntimeError as e:\n",
    "        print(e)"
   ]
  },
  {
   "cell_type": "code",
   "execution_count": 3,
   "metadata": {},
   "outputs": [
    {
     "name": "stdout",
     "output_type": "stream",
     "text": [
      "Mixed precision policy set to: mixed_float16\n"
     ]
    },
    {
     "name": "stderr",
     "output_type": "stream",
     "text": [
      "2024-10-16 10:23:34.978021: I metal_plugin/src/device/metal_device.cc:1154] Metal device set to: Apple M3 Pro\n",
      "2024-10-16 10:23:34.978054: I metal_plugin/src/device/metal_device.cc:296] systemMemory: 18.00 GB\n",
      "2024-10-16 10:23:34.978062: I metal_plugin/src/device/metal_device.cc:313] maxCacheSize: 6.00 GB\n",
      "2024-10-16 10:23:34.978076: I tensorflow/core/common_runtime/pluggable_device/pluggable_device_factory.cc:305] Could not identify NUMA node of platform GPU ID 0, defaulting to 0. Your kernel may not have been built with NUMA support.\n",
      "2024-10-16 10:23:34.978089: I tensorflow/core/common_runtime/pluggable_device/pluggable_device_factory.cc:271] Created TensorFlow device (/job:localhost/replica:0/task:0/device:GPU:0 with 0 MB memory) -> physical PluggableDevice (device: 0, name: METAL, pci bus id: <undefined>)\n"
     ]
    }
   ],
   "source": [
    "setup_mixed_precision()\n",
    "\n",
    "path = '/Users/pimpijnenburg/Desktop/Thesis/USTC_SmokeRS_dataset/data/created_data/train_val_test_split'\n",
    "train, val, test = load_and_prepare_data(path)"
   ]
  },
  {
   "cell_type": "code",
   "execution_count": 4,
   "metadata": {},
   "outputs": [
    {
     "name": "stdout",
     "output_type": "stream",
     "text": [
      "Train Image shape: (32, 256, 256, 3)\n",
      "Train Label shape: (32, 6)\n",
      "Train Image min-max: 0.0 1.0\n",
      "Train Unique labels: [0. 1.]\n",
      "tf.Tensor(\n",
      "[[0. 0. 0. 0. 0. 1.]\n",
      " [0. 0. 1. 0. 0. 0.]], shape=(2, 6), dtype=float32)\n",
      "\n",
      "Val Image shape: (32, 256, 256, 3)\n",
      "Val Label shape: (32, 6)\n",
      "Val Image min-max: 0.0 1.0\n",
      "Val Unique labels: [0. 1.]\n",
      "tf.Tensor(\n",
      "[[0. 0. 0. 0. 1. 0.]\n",
      " [0. 1. 0. 0. 0. 0.]], shape=(2, 6), dtype=float32)\n"
     ]
    },
    {
     "name": "stderr",
     "output_type": "stream",
     "text": [
      "2024-10-16 10:24:15.027995: I tensorflow/core/framework/local_rendezvous.cc:404] Local rendezvous is aborting with status: OUT_OF_RANGE: End of sequence\n",
      "2024-10-16 10:24:15.055256: I tensorflow/core/framework/local_rendezvous.cc:404] Local rendezvous is aborting with status: OUT_OF_RANGE: End of sequence\n"
     ]
    }
   ],
   "source": [
    "for images, labels in train.take(1):\n",
    "    print(\"Train Image shape:\", images.shape)\n",
    "    print(\"Train Label shape:\", labels.shape)\n",
    "    print(\"Train Image min-max:\", tf.reduce_min(images).numpy(), tf.reduce_max(images).numpy())\n",
    "    print(\"Train Unique labels:\", np.unique(labels))\n",
    "    print(labels[:2])\n",
    "\n",
    "print()\n",
    "\n",
    "for images, labels in val.take(1):\n",
    "    print(\"Val Image shape:\", images.shape)\n",
    "    print(\"Val Label shape:\", labels.shape)\n",
    "    print(\"Val Image min-max:\", tf.reduce_min(images).numpy(), tf.reduce_max(images).numpy())\n",
    "    print(\"Val Unique labels:\", np.unique(labels))\n",
    "    print(labels[:2])"
   ]
  },
  {
   "cell_type": "code",
   "execution_count": 4,
   "metadata": {},
   "outputs": [],
   "source": [
    "base_model = tf.keras.applications.EfficientNetV2S(include_top= False, weights = None, input_shape= (256, 256,3))\n",
    "\n",
    "x = base_model.output\n",
    "x = layers.GlobalAveragePooling2D()(x)\n",
    "x = layers.Dense(1024, activation='relu', kernel_regularizer=tf.keras.regularizers.l2(0.01))(x)\n",
    "x = layers.Dropout(0.5)(x)\n",
    "x = layers.Dense(6, activation='softmax', dtype='float32')(x)\n",
    "\n",
    "efficientnet = Model(inputs=base_model.input, outputs=x, name='EfficientNetV2S')"
   ]
  },
  {
   "cell_type": "code",
   "execution_count": 5,
   "metadata": {},
   "outputs": [],
   "source": [
    "optimizer = create_optimizer(learning_rate= 1e-3)\n",
    "efficientnet.compile(optimizer=optimizer, \n",
    "                     loss='categorical_crossentropy', \n",
    "                     metrics=['accuracy', 'F1Score'])\n",
    "\n",
    "early_stopping = EarlyStopping(\n",
    "    monitor='val_loss',  \n",
    "    patience=5,          \n",
    "    restore_best_weights=True,  \n",
    "    start_from_epoch=20  \n",
    ")"
   ]
  },
  {
   "cell_type": "code",
   "execution_count": 6,
   "metadata": {},
   "outputs": [
    {
     "name": "stdout",
     "output_type": "stream",
     "text": [
      "Epoch 1/50\n"
     ]
    },
    {
     "name": "stderr",
     "output_type": "stream",
     "text": [
      "2024-10-16 10:23:04.307757: I tensorflow/core/grappler/optimizers/custom_graph_optimizer_registry.cc:117] Plugin optimizer for device_type GPU is enabled.\n"
     ]
    },
    {
     "ename": "",
     "evalue": "",
     "output_type": "error",
     "traceback": [
      "\u001b[1;31mCannot execute code, session has been disposed. Please try restarting the Kernel."
     ]
    },
    {
     "ename": "",
     "evalue": "",
     "output_type": "error",
     "traceback": [
      "\u001b[1;31mCannot execute code, session has been disposed. Please try restarting the Kernel. \n",
      "\u001b[1;31mView Jupyter <a href='command:jupyter.viewOutput'>log</a> for further details."
     ]
    }
   ],
   "source": [
    "history = history = efficientnet.fit(train, validation_data=val, epochs=50, verbose=1, callbacks= early_stopping)"
   ]
  },
  {
   "cell_type": "code",
   "execution_count": null,
   "metadata": {},
   "outputs": [],
   "source": [
    "efficientnet.save('efficientnetv2_full_model_v1.h5')"
   ]
  }
 ],
 "metadata": {
  "kernelspec": {
   "display_name": "Python 3",
   "language": "python",
   "name": "python3"
  },
  "language_info": {
   "codemirror_mode": {
    "name": "ipython",
    "version": 3
   },
   "file_extension": ".py",
   "mimetype": "text/x-python",
   "name": "python",
   "nbconvert_exporter": "python",
   "pygments_lexer": "ipython3",
   "version": "3.11.9"
  }
 },
 "nbformat": 4,
 "nbformat_minor": 2
}
