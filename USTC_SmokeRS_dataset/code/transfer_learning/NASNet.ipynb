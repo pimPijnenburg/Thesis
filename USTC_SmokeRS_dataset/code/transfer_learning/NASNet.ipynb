{
 "cells": [
  {
   "cell_type": "code",
   "execution_count": 1,
   "metadata": {},
   "outputs": [],
   "source": [
    "from tl_tools import *\n",
    "from tensorflow.keras.preprocessing.image import ImageDataGenerator\n",
    "from tensorflow.keras.optimizers import Adam\n",
    "from tensorflow.keras.callbacks import EarlyStopping, ReduceLROnPlateau\n",
    "import pandas as pd\n",
    "from tensorflow.keras.applications import NASNetMobile"
   ]
  },
  {
   "cell_type": "code",
   "execution_count": 2,
   "metadata": {},
   "outputs": [
    {
     "name": "stdout",
     "output_type": "stream",
     "text": [
      "Mixed precision policy set to: mixed_float16\n",
      "\n",
      "Found 4980 images belonging to 6 classes.\n",
      "Number of batches in the training data: 312\n",
      "Batch size of a single batch 16\n",
      "Number of samples in the training dataset 4980\n",
      "\n",
      "Number of training data batches with val split of 0.3: 219\n",
      "Number of validation data batches: 93\n",
      "\n"
     ]
    },
    {
     "name": "stderr",
     "output_type": "stream",
     "text": [
      "2024-10-28 11:43:56.431370: I metal_plugin/src/device/metal_device.cc:1154] Metal device set to: Apple M3 Pro\n",
      "2024-10-28 11:43:56.431406: I metal_plugin/src/device/metal_device.cc:296] systemMemory: 18.00 GB\n",
      "2024-10-28 11:43:56.431416: I metal_plugin/src/device/metal_device.cc:313] maxCacheSize: 6.00 GB\n",
      "2024-10-28 11:43:56.431432: I tensorflow/core/common_runtime/pluggable_device/pluggable_device_factory.cc:305] Could not identify NUMA node of platform GPU ID 0, defaulting to 0. Your kernel may not have been built with NUMA support.\n",
      "2024-10-28 11:43:56.431443: I tensorflow/core/common_runtime/pluggable_device/pluggable_device_factory.cc:271] Created TensorFlow device (/job:localhost/replica:0/task:0/device:GPU:0 with 0 MB memory) -> physical PluggableDevice (device: 0, name: METAL, pci bus id: <undefined>)\n"
     ]
    },
    {
     "name": "stdout",
     "output_type": "stream",
     "text": [
      "Shape of image training set: (3504, 256, 256, 3)\n",
      "Shape of image validation set: (1476, 256, 256, 3)\n",
      "\n",
      "Shape of label training set: (3504, 6)\n",
      "Shape of label validation set: (1476, 6)\n"
     ]
    }
   ],
   "source": [
    "setup_mixed_precision()\n",
    "train_dir = '/Users/pimpijnenburg/Desktop/Thesis/USTC_SmokeRS_dataset/data/USTC_SmokeRS/processed/train'\n",
    "\n",
    "train_datagen = ImageDataGenerator(rescale=1./255, horizontal_flip=True ,vertical_flip=True)\n",
    "train =train_datagen.flow_from_directory(train_dir, color_mode= 'rgb', batch_size = 16, shuffle= True, seed = 1, target_size=(256, 256))\n",
    "\n",
    "\n",
    "X_train, y_train, X_val, y_val = train_val_split(train, val_split= 0.3)"
   ]
  },
  {
   "cell_type": "code",
   "execution_count": 3,
   "metadata": {},
   "outputs": [
    {
     "name": "stdout",
     "output_type": "stream",
     "text": [
      "Found 1245 images belonging to 6 classes.\n",
      "Number of batches in the test data: 78\n",
      "Batch size of a single batch 16\n",
      "Number of samples in the test dataset 1245\n",
      "\n",
      "Shape of image test set: (1245, 256, 256, 3)\n",
      "\n",
      "Shape of label test set: (1245, 6)\n"
     ]
    }
   ],
   "source": [
    "test_dir = '/Users/pimpijnenburg/Desktop/Thesis/USTC_SmokeRS_dataset/data/USTC_SmokeRS/processed/test'\n",
    "test_datagen = ImageDataGenerator(rescale=1./255)\n",
    "test = test_datagen.flow_from_directory(test_dir, color_mode= 'rgb', batch_size = 16, shuffle= True, seed = 1, target_size=(256, 256))\n",
    "X_test, y_test = test_splits(test)"
   ]
  },
  {
   "cell_type": "code",
   "execution_count": 4,
   "metadata": {},
   "outputs": [],
   "source": [
    "pooling = 'avg'\n",
    "nasnetmobile = NASNetMobile(weights= 'imagenet',include_top= False, input_shape= (256, 256, 3), pooling = pooling)\n",
    "nasnetmobile.trainable = False\n",
    "\n",
    "model = fc_layers(nasnetmobile, name= 'nasnet_mobile')"
   ]
  },
  {
   "cell_type": "code",
   "execution_count": 5,
   "metadata": {},
   "outputs": [
    {
     "name": "stdout",
     "output_type": "stream",
     "text": [
      "Epoch 1/50\n"
     ]
    },
    {
     "name": "stderr",
     "output_type": "stream",
     "text": [
      "2024-10-28 11:44:07.739918: I tensorflow/core/grappler/optimizers/custom_graph_optimizer_registry.cc:117] Plugin optimizer for device_type GPU is enabled.\n"
     ]
    },
    {
     "name": "stdout",
     "output_type": "stream",
     "text": [
      "\u001b[1m110/110\u001b[0m \u001b[32m━━━━━━━━━━━━━━━━━━━━\u001b[0m\u001b[37m\u001b[0m \u001b[1m57s\u001b[0m 362ms/step - F1Score: 0.3908 - accuracy: 0.4001 - loss: 1.6922 - val_F1Score: 0.6253 - val_accuracy: 0.6179 - val_loss: 1.0344 - learning_rate: 0.0010\n",
      "Epoch 2/50\n",
      "\u001b[1m110/110\u001b[0m \u001b[32m━━━━━━━━━━━━━━━━━━━━\u001b[0m\u001b[37m\u001b[0m \u001b[1m25s\u001b[0m 225ms/step - F1Score: 0.6608 - accuracy: 0.6686 - loss: 0.9209 - val_F1Score: 0.7554 - val_accuracy: 0.7602 - val_loss: 0.6893 - learning_rate: 0.0010\n",
      "Epoch 3/50\n",
      "\u001b[1m110/110\u001b[0m \u001b[32m━━━━━━━━━━━━━━━━━━━━\u001b[0m\u001b[37m\u001b[0m \u001b[1m25s\u001b[0m 230ms/step - F1Score: 0.7246 - accuracy: 0.7308 - loss: 0.7679 - val_F1Score: 0.7419 - val_accuracy: 0.7527 - val_loss: 0.7034 - learning_rate: 0.0010\n",
      "Epoch 4/50\n",
      "\u001b[1m110/110\u001b[0m \u001b[32m━━━━━━━━━━━━━━━━━━━━\u001b[0m\u001b[37m\u001b[0m \u001b[1m25s\u001b[0m 226ms/step - F1Score: 0.7620 - accuracy: 0.7646 - loss: 0.6849 - val_F1Score: 0.7625 - val_accuracy: 0.7703 - val_loss: 0.6426 - learning_rate: 0.0010\n",
      "Epoch 5/50\n",
      "\u001b[1m110/110\u001b[0m \u001b[32m━━━━━━━━━━━━━━━━━━━━\u001b[0m\u001b[37m\u001b[0m \u001b[1m25s\u001b[0m 223ms/step - F1Score: 0.7818 - accuracy: 0.7879 - loss: 0.5916 - val_F1Score: 0.7640 - val_accuracy: 0.7724 - val_loss: 0.6467 - learning_rate: 0.0010\n",
      "Epoch 6/50\n",
      "\u001b[1m110/110\u001b[0m \u001b[32m━━━━━━━━━━━━━━━━━━━━\u001b[0m\u001b[37m\u001b[0m \u001b[1m25s\u001b[0m 224ms/step - F1Score: 0.8082 - accuracy: 0.8134 - loss: 0.5248 - val_F1Score: 0.8068 - val_accuracy: 0.8089 - val_loss: 0.5526 - learning_rate: 0.0010\n",
      "Epoch 7/50\n",
      "\u001b[1m110/110\u001b[0m \u001b[32m━━━━━━━━━━━━━━━━━━━━\u001b[0m\u001b[37m\u001b[0m \u001b[1m25s\u001b[0m 227ms/step - F1Score: 0.8101 - accuracy: 0.8166 - loss: 0.5139 - val_F1Score: 0.8123 - val_accuracy: 0.8130 - val_loss: 0.5460 - learning_rate: 0.0010\n",
      "Epoch 8/50\n",
      "\u001b[1m110/110\u001b[0m \u001b[32m━━━━━━━━━━━━━━━━━━━━\u001b[0m\u001b[37m\u001b[0m \u001b[1m25s\u001b[0m 223ms/step - F1Score: 0.8280 - accuracy: 0.8306 - loss: 0.4574 - val_F1Score: 0.8123 - val_accuracy: 0.8123 - val_loss: 0.5417 - learning_rate: 0.0010\n",
      "Epoch 9/50\n",
      "\u001b[1m110/110\u001b[0m \u001b[32m━━━━━━━━━━━━━━━━━━━━\u001b[0m\u001b[37m\u001b[0m \u001b[1m25s\u001b[0m 228ms/step - F1Score: 0.8365 - accuracy: 0.8397 - loss: 0.4611 - val_F1Score: 0.7902 - val_accuracy: 0.7981 - val_loss: 0.5971 - learning_rate: 0.0010\n",
      "Epoch 10/50\n",
      "\u001b[1m110/110\u001b[0m \u001b[32m━━━━━━━━━━━━━━━━━━━━\u001b[0m\u001b[37m\u001b[0m \u001b[1m25s\u001b[0m 228ms/step - F1Score: 0.8452 - accuracy: 0.8468 - loss: 0.4536 - val_F1Score: 0.7931 - val_accuracy: 0.7974 - val_loss: 0.5756 - learning_rate: 0.0010\n",
      "Epoch 11/50\n",
      "\u001b[1m110/110\u001b[0m \u001b[32m━━━━━━━━━━━━━━━━━━━━\u001b[0m\u001b[37m\u001b[0m \u001b[1m26s\u001b[0m 232ms/step - F1Score: 0.8489 - accuracy: 0.8528 - loss: 0.4096 - val_F1Score: 0.8022 - val_accuracy: 0.8049 - val_loss: 0.5715 - learning_rate: 0.0010\n",
      "Epoch 12/50\n",
      "\u001b[1m110/110\u001b[0m \u001b[32m━━━━━━━━━━━━━━━━━━━━\u001b[0m\u001b[37m\u001b[0m \u001b[1m25s\u001b[0m 225ms/step - F1Score: 0.8507 - accuracy: 0.8528 - loss: 0.4327 - val_F1Score: 0.8041 - val_accuracy: 0.8069 - val_loss: 0.5730 - learning_rate: 0.0010\n",
      "Epoch 13/50\n",
      "\u001b[1m110/110\u001b[0m \u001b[32m━━━━━━━━━━━━━━━━━━━━\u001b[0m\u001b[37m\u001b[0m \u001b[1m25s\u001b[0m 229ms/step - F1Score: 0.8506 - accuracy: 0.8546 - loss: 0.4007 - val_F1Score: 0.8051 - val_accuracy: 0.8042 - val_loss: 0.5824 - learning_rate: 0.0010\n",
      "Epoch 14/50\n",
      "\u001b[1m110/110\u001b[0m \u001b[32m━━━━━━━━━━━━━━━━━━━━\u001b[0m\u001b[37m\u001b[0m \u001b[1m26s\u001b[0m 231ms/step - F1Score: 0.8871 - accuracy: 0.8903 - loss: 0.3476 - val_F1Score: 0.7920 - val_accuracy: 0.7893 - val_loss: 0.6166 - learning_rate: 0.0010\n",
      "Epoch 15/50\n",
      "\u001b[1m110/110\u001b[0m \u001b[32m━━━━━━━━━━━━━━━━━━━━\u001b[0m\u001b[37m\u001b[0m \u001b[1m24s\u001b[0m 221ms/step - F1Score: 0.8697 - accuracy: 0.8712 - loss: 0.3850 - val_F1Score: 0.8042 - val_accuracy: 0.8035 - val_loss: 0.5969 - learning_rate: 0.0010\n",
      "Epoch 16/50\n",
      "\u001b[1m110/110\u001b[0m \u001b[32m━━━━━━━━━━━━━━━━━━━━\u001b[0m\u001b[37m\u001b[0m \u001b[1m24s\u001b[0m 221ms/step - F1Score: 0.8820 - accuracy: 0.8847 - loss: 0.3354 - val_F1Score: 0.7993 - val_accuracy: 0.8042 - val_loss: 0.5798 - learning_rate: 0.0010\n",
      "Epoch 17/50\n",
      "\u001b[1m110/110\u001b[0m \u001b[32m━━━━━━━━━━━━━━━━━━━━\u001b[0m\u001b[37m\u001b[0m \u001b[1m24s\u001b[0m 221ms/step - F1Score: 0.8960 - accuracy: 0.8975 - loss: 0.3026 - val_F1Score: 0.8181 - val_accuracy: 0.8205 - val_loss: 0.5429 - learning_rate: 5.0000e-04\n",
      "Epoch 18/50\n",
      "\u001b[1m110/110\u001b[0m \u001b[32m━━━━━━━━━━━━━━━━━━━━\u001b[0m\u001b[37m\u001b[0m \u001b[1m25s\u001b[0m 226ms/step - F1Score: 0.9031 - accuracy: 0.9048 - loss: 0.2725 - val_F1Score: 0.8135 - val_accuracy: 0.8137 - val_loss: 0.5835 - learning_rate: 5.0000e-04\n",
      "Epoch 19/50\n",
      "\u001b[1m110/110\u001b[0m \u001b[32m━━━━━━━━━━━━━━━━━━━━\u001b[0m\u001b[37m\u001b[0m \u001b[1m25s\u001b[0m 231ms/step - F1Score: 0.8998 - accuracy: 0.9010 - loss: 0.2875 - val_F1Score: 0.8083 - val_accuracy: 0.8110 - val_loss: 0.5851 - learning_rate: 5.0000e-04\n",
      "Epoch 20/50\n",
      "\u001b[1m110/110\u001b[0m \u001b[32m━━━━━━━━━━━━━━━━━━━━\u001b[0m\u001b[37m\u001b[0m \u001b[1m25s\u001b[0m 224ms/step - F1Score: 0.9096 - accuracy: 0.9121 - loss: 0.2576 - val_F1Score: 0.8228 - val_accuracy: 0.8238 - val_loss: 0.5668 - learning_rate: 5.0000e-04\n",
      "Epoch 21/50\n",
      "\u001b[1m110/110\u001b[0m \u001b[32m━━━━━━━━━━━━━━━━━━━━\u001b[0m\u001b[37m\u001b[0m \u001b[1m25s\u001b[0m 229ms/step - F1Score: 0.9228 - accuracy: 0.9255 - loss: 0.2227 - val_F1Score: 0.8157 - val_accuracy: 0.8164 - val_loss: 0.5800 - learning_rate: 5.0000e-04\n",
      "Epoch 22/50\n",
      "\u001b[1m110/110\u001b[0m \u001b[32m━━━━━━━━━━━━━━━━━━━━\u001b[0m\u001b[37m\u001b[0m \u001b[1m25s\u001b[0m 225ms/step - F1Score: 0.9107 - accuracy: 0.9111 - loss: 0.2554 - val_F1Score: 0.8102 - val_accuracy: 0.8137 - val_loss: 0.6017 - learning_rate: 5.0000e-04\n",
      "Epoch 23/50\n",
      "\u001b[1m110/110\u001b[0m \u001b[32m━━━━━━━━━━━━━━━━━━━━\u001b[0m\u001b[37m\u001b[0m \u001b[1m25s\u001b[0m 226ms/step - F1Score: 0.9192 - accuracy: 0.9203 - loss: 0.2377 - val_F1Score: 0.8107 - val_accuracy: 0.8137 - val_loss: 0.5937 - learning_rate: 5.0000e-04\n",
      "Epoch 24/50\n",
      "\u001b[1m110/110\u001b[0m \u001b[32m━━━━━━━━━━━━━━━━━━━━\u001b[0m\u001b[37m\u001b[0m \u001b[1m25s\u001b[0m 228ms/step - F1Score: 0.9226 - accuracy: 0.9245 - loss: 0.2210 - val_F1Score: 0.8160 - val_accuracy: 0.8184 - val_loss: 0.6024 - learning_rate: 5.0000e-04\n",
      "Epoch 25/50\n",
      "\u001b[1m110/110\u001b[0m \u001b[32m━━━━━━━━━━━━━━━━━━━━\u001b[0m\u001b[37m\u001b[0m \u001b[1m25s\u001b[0m 231ms/step - F1Score: 0.9305 - accuracy: 0.9324 - loss: 0.2167 - val_F1Score: 0.8182 - val_accuracy: 0.8198 - val_loss: 0.5987 - learning_rate: 2.5000e-04\n",
      "Epoch 26/50\n",
      "\u001b[1m110/110\u001b[0m \u001b[32m━━━━━━━━━━━━━━━━━━━━\u001b[0m\u001b[37m\u001b[0m \u001b[1m25s\u001b[0m 229ms/step - F1Score: 0.9361 - accuracy: 0.9372 - loss: 0.2094 - val_F1Score: 0.8158 - val_accuracy: 0.8184 - val_loss: 0.6098 - learning_rate: 2.5000e-04\n",
      "Epoch 27/50\n",
      "\u001b[1m110/110\u001b[0m \u001b[32m━━━━━━━━━━━━━━━━━━━━\u001b[0m\u001b[37m\u001b[0m \u001b[1m25s\u001b[0m 226ms/step - F1Score: 0.9287 - accuracy: 0.9290 - loss: 0.2123 - val_F1Score: 0.8216 - val_accuracy: 0.8232 - val_loss: 0.6048 - learning_rate: 2.5000e-04\n",
      "Epoch 28/50\n",
      "\u001b[1m110/110\u001b[0m \u001b[32m━━━━━━━━━━━━━━━━━━━━\u001b[0m\u001b[37m\u001b[0m \u001b[1m24s\u001b[0m 222ms/step - F1Score: 0.9341 - accuracy: 0.9347 - loss: 0.1956 - val_F1Score: 0.8140 - val_accuracy: 0.8171 - val_loss: 0.6190 - learning_rate: 2.5000e-04\n",
      "Epoch 29/50\n",
      "\u001b[1m110/110\u001b[0m \u001b[32m━━━━━━━━━━━━━━━━━━━━\u001b[0m\u001b[37m\u001b[0m \u001b[1m25s\u001b[0m 226ms/step - F1Score: 0.9400 - accuracy: 0.9411 - loss: 0.1799 - val_F1Score: 0.8235 - val_accuracy: 0.8245 - val_loss: 0.6045 - learning_rate: 2.5000e-04\n",
      "Epoch 30/50\n",
      "\u001b[1m110/110\u001b[0m \u001b[32m━━━━━━━━━━━━━━━━━━━━\u001b[0m\u001b[37m\u001b[0m \u001b[1m26s\u001b[0m 240ms/step - F1Score: 0.9428 - accuracy: 0.9429 - loss: 0.1759 - val_F1Score: 0.8197 - val_accuracy: 0.8205 - val_loss: 0.6162 - learning_rate: 2.5000e-04\n",
      "Epoch 31/50\n",
      "\u001b[1m110/110\u001b[0m \u001b[32m━━━━━━━━━━━━━━━━━━━━\u001b[0m\u001b[37m\u001b[0m \u001b[1m25s\u001b[0m 225ms/step - F1Score: 0.9360 - accuracy: 0.9372 - loss: 0.1812 - val_F1Score: 0.8198 - val_accuracy: 0.8211 - val_loss: 0.6362 - learning_rate: 2.5000e-04\n",
      "Epoch 32/50\n",
      "\u001b[1m110/110\u001b[0m \u001b[32m━━━━━━━━━━━━━━━━━━━━\u001b[0m\u001b[37m\u001b[0m \u001b[1m25s\u001b[0m 223ms/step - F1Score: 0.9360 - accuracy: 0.9383 - loss: 0.1724 - val_F1Score: 0.8161 - val_accuracy: 0.8178 - val_loss: 0.6219 - learning_rate: 2.5000e-04\n",
      "Epoch 33/50\n",
      "\u001b[1m110/110\u001b[0m \u001b[32m━━━━━━━━━━━━━━━━━━━━\u001b[0m\u001b[37m\u001b[0m \u001b[1m25s\u001b[0m 224ms/step - F1Score: 0.9483 - accuracy: 0.9488 - loss: 0.1527 - val_F1Score: 0.8222 - val_accuracy: 0.8238 - val_loss: 0.6326 - learning_rate: 1.2500e-04\n",
      "Epoch 34/50\n",
      "\u001b[1m110/110\u001b[0m \u001b[32m━━━━━━━━━━━━━━━━━━━━\u001b[0m\u001b[37m\u001b[0m \u001b[1m25s\u001b[0m 223ms/step - F1Score: 0.9441 - accuracy: 0.9449 - loss: 0.1603 - val_F1Score: 0.8218 - val_accuracy: 0.8245 - val_loss: 0.6324 - learning_rate: 1.2500e-04\n",
      "Epoch 35/50\n",
      "\u001b[1m110/110\u001b[0m \u001b[32m━━━━━━━━━━━━━━━━━━━━\u001b[0m\u001b[37m\u001b[0m \u001b[1m25s\u001b[0m 223ms/step - F1Score: 0.9454 - accuracy: 0.9471 - loss: 0.1551 - val_F1Score: 0.8200 - val_accuracy: 0.8218 - val_loss: 0.6390 - learning_rate: 1.2500e-04\n",
      "Epoch 36/50\n",
      "\u001b[1m110/110\u001b[0m \u001b[32m━━━━━━━━━━━━━━━━━━━━\u001b[0m\u001b[37m\u001b[0m \u001b[1m24s\u001b[0m 223ms/step - F1Score: 0.9462 - accuracy: 0.9469 - loss: 0.1574 - val_F1Score: 0.8179 - val_accuracy: 0.8191 - val_loss: 0.6396 - learning_rate: 1.2500e-04\n"
     ]
    }
   ],
   "source": [
    "model.compile(optimizer=Adam(learning_rate = 0.001, clipnorm= 1.0),\n",
    "                     loss='categorical_crossentropy', \n",
    "                     metrics=['accuracy', 'F1Score'])\n",
    "\n",
    "early_stopping = EarlyStopping(monitor='val_loss', patience=15,restore_best_weights=True, start_from_epoch=20)\n",
    "reduce_lr = ReduceLROnPlateau(monitor='val_loss', factor=0.5, patience=8, min_lr=1e-6)\n",
    "\n",
    "history =  model.fit(X_train, y_train, validation_data=(X_val, y_val), epochs=50, verbose=1, \n",
    "                            callbacks= [early_stopping, reduce_lr])"
   ]
  },
  {
   "cell_type": "code",
   "execution_count": 6,
   "metadata": {},
   "outputs": [
    {
     "name": "stdout",
     "output_type": "stream",
     "text": [
      "\u001b[1m39/39\u001b[0m \u001b[32m━━━━━━━━━━━━━━━━━━━━\u001b[0m\u001b[37m\u001b[0m \u001b[1m29s\u001b[0m 523ms/step\n"
     ]
    }
   ],
   "source": [
    "pred = tf.argmax(model.predict(X_test), axis = 1).numpy()\n",
    "y_true = tf.argmax(y_test, axis=1).numpy()"
   ]
  },
  {
   "cell_type": "code",
   "execution_count": 7,
   "metadata": {},
   "outputs": [
    {
     "data": {
      "image/png": "[encoded data removed]",
      "text/plain": [
       "<Figure size 1000x800 with 2 Axes>"
      ]
     },
     "metadata": {},
     "output_type": "display_data"
    }
   ],
   "source": [
    "from sklearn.metrics import confusion_matrix\n",
    "import matplotlib.pyplot as plt\n",
    "import seaborn as sns\n",
    "\n",
    "class_labels = list(test.class_indices.keys())\n",
    "confusion_matrix = confusion_matrix(pred, y_true)\n",
    "\n",
    "\n",
    "plt.figure(figsize=(10, 8))\n",
    "sns.heatmap(confusion_matrix, annot=True, fmt='d', cmap='Blues', \n",
    "            xticklabels=class_labels, yticklabels=class_labels)\n",
    "plt.title('Confusion Matrix')\n",
    "plt.ylabel('True Label')\n",
    "plt.xlabel('Predicted Label')\n",
    "plt.show()"
   ]
  },
  {
   "cell_type": "code",
   "execution_count": 8,
   "metadata": {},
   "outputs": [
    {
     "data": {
      "text/html": [
       "<div>\n",
       "<style scoped>\n",
       "    .dataframe tbody tr th:only-of-type {\n",
       "        vertical-align: middle;\n",
       "    }\n",
       "\n",
       "    .dataframe tbody tr th {\n",
       "        vertical-align: top;\n",
       "    }\n",
       "\n",
       "    .dataframe thead th {\n",
       "        text-align: right;\n",
       "    }\n",
       "</style>\n",
       "<table border=\"1\" class=\"dataframe\">\n",
       "  <thead>\n",
       "    <tr style=\"text-align: right;\">\n",
       "      <th></th>\n",
       "      <th>Cloud</th>\n",
       "      <th>Dust</th>\n",
       "      <th>Haze</th>\n",
       "      <th>Land</th>\n",
       "      <th>Seaside</th>\n",
       "      <th>Smoke</th>\n",
       "    </tr>\n",
       "  </thead>\n",
       "  <tbody>\n",
       "    <tr>\n",
       "      <th>Precision</th>\n",
       "      <td>0.8240</td>\n",
       "      <td>0.8515</td>\n",
       "      <td>0.7650</td>\n",
       "      <td>0.8244</td>\n",
       "      <td>0.9208</td>\n",
       "      <td>0.7537</td>\n",
       "    </tr>\n",
       "    <tr>\n",
       "      <th>Recall</th>\n",
       "      <td>0.8848</td>\n",
       "      <td>0.7713</td>\n",
       "      <td>0.7321</td>\n",
       "      <td>0.9135</td>\n",
       "      <td>0.9163</td>\n",
       "      <td>0.7356</td>\n",
       "    </tr>\n",
       "    <tr>\n",
       "      <th>F1-score</th>\n",
       "      <td>0.8533</td>\n",
       "      <td>0.8094</td>\n",
       "      <td>0.7482</td>\n",
       "      <td>0.8667</td>\n",
       "      <td>0.9185</td>\n",
       "      <td>0.7445</td>\n",
       "    </tr>\n",
       "    <tr>\n",
       "      <th>False Negative Rate</th>\n",
       "      <td>0.1152</td>\n",
       "      <td>0.2287</td>\n",
       "      <td>0.2679</td>\n",
       "      <td>0.0865</td>\n",
       "      <td>0.0837</td>\n",
       "      <td>0.2644</td>\n",
       "    </tr>\n",
       "  </tbody>\n",
       "</table>\n",
       "</div>"
      ],
      "text/plain": [
       "                      Cloud    Dust    Haze    Land  Seaside   Smoke\n",
       "Precision            0.8240  0.8515  0.7650  0.8244   0.9208  0.7537\n",
       "Recall               0.8848  0.7713  0.7321  0.9135   0.9163  0.7356\n",
       "F1-score             0.8533  0.8094  0.7482  0.8667   0.9185  0.7445\n",
       "False Negative Rate  0.1152  0.2287  0.2679  0.0865   0.0837  0.2644"
      ]
     },
     "execution_count": 8,
     "metadata": {},
     "output_type": "execute_result"
    }
   ],
   "source": [
    "n_classes = len(class_labels)\n",
    "FP = confusion_matrix.sum(axis=0) - np.diag(confusion_matrix)\n",
    "FN = confusion_matrix.sum(axis=1) - np.diag(confusion_matrix)\n",
    "TP = np.diag(confusion_matrix)\n",
    "TN = confusion_matrix.sum() - (FP + FN + TP)\n",
    "\n",
    "metrics = ['Precision', 'Recall', 'F1-score', 'False Negative Rate']\n",
    "\n",
    "df_metrics = pd.DataFrame(index=metrics, columns=class_labels)\n",
    "\n",
    "for i in range(n_classes):\n",
    "    df_metrics.iloc[0, i] = TP[i] / (TP[i] + FP[i])\n",
    "    df_metrics.iloc[1, i] = TP[i] / (TP[i] + FN[i])\n",
    "    df_metrics.iloc[2, i] = 2 * TP[i] / (2 * TP[i] + FP[i] + FN[i])\n",
    "    df_metrics.iloc[3, i] = FN[i] / (FN[i] + TP[i])  # False Negative Rate\n",
    "\n",
    "def round_fn(input): \n",
    "    return round(input, 4)\n",
    "\n",
    "df_metrics = df_metrics.map(round_fn)\n",
    "df_metrics"
   ]
  },
  {
   "cell_type": "code",
   "execution_count": 9,
   "metadata": {},
   "outputs": [
    {
     "name": "stdout",
     "output_type": "stream",
     "text": [
      "Accuracy Score: 0.8233\n",
      "Average Precision Score: 0.8232\n",
      "Average Recall Score: 0.8256\n",
      "Average F1-score Score: 0.8234\n",
      "Average False Negative Rate Score: 0.1744\n"
     ]
    }
   ],
   "source": [
    "from sklearn.metrics import accuracy_score\n",
    "\n",
    "print(f'Accuracy Score: {accuracy_score(pred, y_true):.4f}')\n",
    "for index, row in df_metrics.iterrows(): \n",
    "    row_mean = row.mean()\n",
    "    print(f'Average {index} Score: {row_mean:.4f}')"
   ]
  },
  {
   "cell_type": "code",
   "execution_count": 10,
   "metadata": {},
   "outputs": [
    {
     "name": "stdout",
     "output_type": "stream",
     "text": [
      "\u001b[1m39/39\u001b[0m \u001b[32m━━━━━━━━━━━━━━━━━━━━\u001b[0m\u001b[37m\u001b[0m \u001b[1m57s\u001b[0m 968ms/step\n"
     ]
    }
   ],
   "source": [
    "feature_extractor = Model(inputs=model.input, outputs=model.get_layer('global_average_pooling2d').output)\n",
    "feature_extractor_pred = feature_extractor.predict(X_test)"
   ]
  },
  {
   "cell_type": "code",
   "execution_count": 19,
   "metadata": {},
   "outputs": [],
   "source": [
    "from xgboost import XGBClassifier\n",
    "from sklearn.preprocessing import StandardScaler\n",
    "\n",
    "scaler = StandardScaler()\n",
    "feature_extractor_pred = scaler.fit_transform(feature_extractor_pred)\n",
    "feature_extractor_df = pd.DataFrame(feature_extractor_pred)\n",
    "y_true_series = pd.Series(y_true)"
   ]
  },
  {
   "cell_type": "code",
   "execution_count": 1,
   "metadata": {},
   "outputs": [
    {
     "ename": "NameError",
     "evalue": "name 'feature_extractor_df' is not defined",
     "output_type": "error",
     "traceback": [
      "\u001b[0;31m---------------------------------------------------------------------------\u001b[0m",
      "\u001b[0;31mNameError\u001b[0m                                 Traceback (most recent call last)",
      "Cell \u001b[0;32mIn[1], line 3\u001b[0m\n\u001b[1;32m      1\u001b[0m \u001b[38;5;28;01mfrom\u001b[39;00m \u001b[38;5;21;01msklearn\u001b[39;00m\u001b[38;5;21;01m.\u001b[39;00m\u001b[38;5;21;01mmanifold\u001b[39;00m \u001b[38;5;28;01mimport\u001b[39;00m TSNE\n\u001b[1;32m      2\u001b[0m tsne \u001b[38;5;241m=\u001b[39m TSNE(n_components \u001b[38;5;241m=\u001b[39m \u001b[38;5;241m2\u001b[39m, random_state\u001b[38;5;241m=\u001b[39m \u001b[38;5;241m1\u001b[39m, perplexity\u001b[38;5;241m=\u001b[39m \u001b[38;5;241m30\u001b[39m, max_iter \u001b[38;5;241m=\u001b[39m \u001b[38;5;241m1000\u001b[39m)\n\u001b[0;32m----> 3\u001b[0m X_tsne_2d \u001b[38;5;241m=\u001b[39m tsne\u001b[38;5;241m.\u001b[39mfit_transform(feature_extractor_df)\n\u001b[1;32m      5\u001b[0m plt\u001b[38;5;241m.\u001b[39mfigure(figsize\u001b[38;5;241m=\u001b[39m(\u001b[38;5;241m12\u001b[39m, \u001b[38;5;241m8\u001b[39m))\n\u001b[1;32m      6\u001b[0m scatter \u001b[38;5;241m=\u001b[39m sns\u001b[38;5;241m.\u001b[39mscatterplot(x\u001b[38;5;241m=\u001b[39mX_tsne_2d[:, \u001b[38;5;241m0\u001b[39m], y\u001b[38;5;241m=\u001b[39mX_tsne_2d[:, \u001b[38;5;241m1\u001b[39m], hue\u001b[38;5;241m=\u001b[39my_true, palette\u001b[38;5;241m=\u001b[39m\u001b[38;5;124m'\u001b[39m\u001b[38;5;124mviridis\u001b[39m\u001b[38;5;124m'\u001b[39m)\n",
      "\u001b[0;31mNameError\u001b[0m: name 'feature_extractor_df' is not defined"
     ]
    }
   ],
   "source": [
    "from sklearn.manifold import TSNE\n",
    "tsne = TSNE(n_components = 2, random_state= 1, perplexity= 30, max_iter = 1000)\n",
    "X_tsne_2d = tsne.fit_transform(feature_extractor_df)\n",
    "\n",
    "plt.figure(figsize=(12, 8))\n",
    "scatter = sns.scatterplot(x=X_tsne_2d[:, 0], y=X_tsne_2d[:, 1], hue=y_true, palette='viridis')\n",
    "label_dict = {i: label for i, label in enumerate(class_labels)}\n",
    "\n",
    "new_labels = [label_dict[int(item.get_text())] for item in scatter.legend_.texts]\n",
    "for t, l in zip(scatter.legend_.texts, new_labels):\n",
    "    t.set_text(l)\n",
    "\n",
    "plt.title('t-SNE visualization of extracted features')\n",
    "plt.xlabel('t-SNE feature 1')\n",
    "plt.ylabel('t-SNE feature 2')\n",
    "plt.tight_layout()\n",
    "plt.show()"
   ]
  },
  {
   "cell_type": "code",
   "execution_count": 2,
   "metadata": {},
   "outputs": [
    {
     "ename": "NameError",
     "evalue": "name 'feature_extractor_df' is not defined",
     "output_type": "error",
     "traceback": [
      "\u001b[0;31m---------------------------------------------------------------------------\u001b[0m",
      "\u001b[0;31mNameError\u001b[0m                                 Traceback (most recent call last)",
      "Cell \u001b[0;32mIn[2], line 2\u001b[0m\n\u001b[1;32m      1\u001b[0m tsne \u001b[38;5;241m=\u001b[39m TSNE(n_components\u001b[38;5;241m=\u001b[39m\u001b[38;5;241m3\u001b[39m, random_state\u001b[38;5;241m=\u001b[39m\u001b[38;5;241m1\u001b[39m, perplexity\u001b[38;5;241m=\u001b[39m\u001b[38;5;241m30\u001b[39m, max_iter \u001b[38;5;241m=\u001b[39m\u001b[38;5;241m1000\u001b[39m)\n\u001b[0;32m----> 2\u001b[0m X_tsne_3d \u001b[38;5;241m=\u001b[39m tsne\u001b[38;5;241m.\u001b[39mfit_transform(feature_extractor_df)\n\u001b[1;32m      4\u001b[0m fig \u001b[38;5;241m=\u001b[39m plt\u001b[38;5;241m.\u001b[39mfigure(figsize\u001b[38;5;241m=\u001b[39m(\u001b[38;5;241m12\u001b[39m, \u001b[38;5;241m8\u001b[39m))\n\u001b[1;32m      5\u001b[0m ax \u001b[38;5;241m=\u001b[39m fig\u001b[38;5;241m.\u001b[39madd_subplot(\u001b[38;5;241m111\u001b[39m, projection\u001b[38;5;241m=\u001b[39m\u001b[38;5;124m'\u001b[39m\u001b[38;5;124m3d\u001b[39m\u001b[38;5;124m'\u001b[39m)\n",
      "\u001b[0;31mNameError\u001b[0m: name 'feature_extractor_df' is not defined"
     ]
    }
   ],
   "source": [
    "tsne = TSNE(n_components=3, random_state=1, perplexity=30, max_iter =1000)\n",
    "X_tsne_3d = tsne.fit_transform(feature_extractor_df)\n",
    "\n",
    "fig = plt.figure(figsize=(12, 8))\n",
    "ax = fig.add_subplot(111, projection='3d')\n",
    "\n",
    "scatter = ax.scatter(X_tsne_3d[:, 0], X_tsne_3d[:, 1], X_tsne_3d[:, 2], c=y_true, cmap='viridis')\n",
    "ax.set_xlabel('t-SNE feature 1')\n",
    "ax.set_ylabel('t-SNE feature 2')\n",
    "ax.set_zlabel('t-SNE feature 3')\n",
    "ax.set_title('3D t-SNE visualization of extracted features')\n",
    "\n",
    "cbar = plt.colorbar(scatter)\n",
    "cbar.set_ticks(range(len(class_labels)))\n",
    "cbar.set_ticklabels(class_labels)\n",
    "\n",
    "plt.tight_layout()\n",
    "plt.show()"
   ]
  },
  {
   "cell_type": "code",
   "execution_count": 3,
   "metadata": {},
   "outputs": [
    {
     "ename": "NameError",
     "evalue": "name 'pd' is not defined",
     "output_type": "error",
     "traceback": [
      "\u001b[0;31m---------------------------------------------------------------------------\u001b[0m",
      "\u001b[0;31mNameError\u001b[0m                                 Traceback (most recent call last)",
      "Cell \u001b[0;32mIn[3], line 3\u001b[0m\n\u001b[1;32m      1\u001b[0m \u001b[38;5;28;01mimport\u001b[39;00m \u001b[38;5;21;01mplotly\u001b[39;00m\u001b[38;5;21;01m.\u001b[39;00m\u001b[38;5;21;01mexpress\u001b[39;00m \u001b[38;5;28;01mas\u001b[39;00m \u001b[38;5;21;01mpx\u001b[39;00m\n\u001b[0;32m----> 3\u001b[0m df \u001b[38;5;241m=\u001b[39m pd\u001b[38;5;241m.\u001b[39mDataFrame({\n\u001b[1;32m      4\u001b[0m     \u001b[38;5;124m'\u001b[39m\u001b[38;5;124mtsne-1\u001b[39m\u001b[38;5;124m'\u001b[39m: X_tsne_3d[:, \u001b[38;5;241m0\u001b[39m],\n\u001b[1;32m      5\u001b[0m     \u001b[38;5;124m'\u001b[39m\u001b[38;5;124mtsne-2\u001b[39m\u001b[38;5;124m'\u001b[39m: X_tsne_3d[:, \u001b[38;5;241m1\u001b[39m],\n\u001b[1;32m      6\u001b[0m     \u001b[38;5;124m'\u001b[39m\u001b[38;5;124mtsne-3\u001b[39m\u001b[38;5;124m'\u001b[39m: X_tsne_3d[:, \u001b[38;5;241m2\u001b[39m],\n\u001b[1;32m      7\u001b[0m     \u001b[38;5;124m'\u001b[39m\u001b[38;5;124mclass\u001b[39m\u001b[38;5;124m'\u001b[39m: [class_labels[i] \u001b[38;5;28;01mfor\u001b[39;00m i \u001b[38;5;129;01min\u001b[39;00m y_true]\n\u001b[1;32m      8\u001b[0m })\n\u001b[1;32m     10\u001b[0m fig \u001b[38;5;241m=\u001b[39m px\u001b[38;5;241m.\u001b[39mscatter_3d(df, x\u001b[38;5;241m=\u001b[39m\u001b[38;5;124m'\u001b[39m\u001b[38;5;124mtsne-1\u001b[39m\u001b[38;5;124m'\u001b[39m, y\u001b[38;5;241m=\u001b[39m\u001b[38;5;124m'\u001b[39m\u001b[38;5;124mtsne-2\u001b[39m\u001b[38;5;124m'\u001b[39m, z\u001b[38;5;241m=\u001b[39m\u001b[38;5;124m'\u001b[39m\u001b[38;5;124mtsne-3\u001b[39m\u001b[38;5;124m'\u001b[39m,\n\u001b[1;32m     11\u001b[0m                     color\u001b[38;5;241m=\u001b[39m\u001b[38;5;124m'\u001b[39m\u001b[38;5;124mclass\u001b[39m\u001b[38;5;124m'\u001b[39m, \n\u001b[1;32m     12\u001b[0m                     title\u001b[38;5;241m=\u001b[39m\u001b[38;5;124m'\u001b[39m\u001b[38;5;124mInteractive 3D t-SNE visualization of extracted features\u001b[39m\u001b[38;5;124m'\u001b[39m,\n\u001b[0;32m   (...)\u001b[0m\n\u001b[1;32m     15\u001b[0m                             \u001b[38;5;124m'\u001b[39m\u001b[38;5;124mtsne-3\u001b[39m\u001b[38;5;124m'\u001b[39m: \u001b[38;5;124m'\u001b[39m\u001b[38;5;124mt-SNE feature 3\u001b[39m\u001b[38;5;124m'\u001b[39m},\n\u001b[1;32m     16\u001b[0m                     hover_data\u001b[38;5;241m=\u001b[39m[\u001b[38;5;124m'\u001b[39m\u001b[38;5;124mclass\u001b[39m\u001b[38;5;124m'\u001b[39m])\n\u001b[1;32m     18\u001b[0m fig\u001b[38;5;241m.\u001b[39mupdate_traces(marker\u001b[38;5;241m=\u001b[39m\u001b[38;5;28mdict\u001b[39m(size\u001b[38;5;241m=\u001b[39m\u001b[38;5;241m5\u001b[39m))\n",
      "\u001b[0;31mNameError\u001b[0m: name 'pd' is not defined"
     ]
    }
   ],
   "source": [
    "import plotly.express as px\n",
    "\n",
    "df = pd.DataFrame({\n",
    "    'tsne-1': X_tsne_3d[:, 0],\n",
    "    'tsne-2': X_tsne_3d[:, 1],\n",
    "    'tsne-3': X_tsne_3d[:, 2],\n",
    "    'class': [class_labels[i] for i in y_true]\n",
    "})\n",
    "\n",
    "fig = px.scatter_3d(df, x='tsne-1', y='tsne-2', z='tsne-3',\n",
    "                    color='class', \n",
    "                    title='Interactive 3D t-SNE visualization of extracted features',\n",
    "                    labels={'tsne-1': 't-SNE feature 1', \n",
    "                            'tsne-2': 't-SNE feature 2', \n",
    "                            'tsne-3': 't-SNE feature 3'},\n",
    "                    hover_data=['class'])\n",
    "\n",
    "fig.update_traces(marker=dict(size=5))\n",
    "fig.update_layout(legend=dict(itemsizing='constant'))\n",
    "fig.show()"
   ]
  }
 ],
 "metadata": {
  "kernelspec": {
   "display_name": "Python 3",
   "language": "python",
   "name": "python3"
  },
  "language_info": {
   "codemirror_mode": {
    "name": "ipython",
    "version": 3
   },
   "file_extension": ".py",
   "mimetype": "text/x-python",
   "name": "python",
   "nbconvert_exporter": "python",
   "pygments_lexer": "ipython3",
   "version": "3.11.9"
  }
 },
 "nbformat": 4,
 "nbformat_minor": 2
}
