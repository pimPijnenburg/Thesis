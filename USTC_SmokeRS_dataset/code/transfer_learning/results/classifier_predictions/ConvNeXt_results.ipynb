{
 "cells": [
  {
   "cell_type": "code",
   "execution_count": 1,
   "metadata": {},
   "outputs": [],
   "source": [
    "import sys\n",
    "import os\n",
    "\n",
    "sys.path.append('/Users/pimpijnenburg/Desktop/Thesis/USTC_SmokeRS_dataset/code/transfer_learning/training')\n"
   ]
  },
  {
   "cell_type": "code",
   "execution_count": 2,
   "metadata": {},
   "outputs": [
    {
     "name": "stdout",
     "output_type": "stream",
     "text": [
      "Mixed precision policy set to: mixed_float16\n",
      "\n"
     ]
    }
   ],
   "source": [
    "import pandas as pd\n",
    "import numpy as np\n",
    "import torch \n",
    "from torch import from_numpy\n",
    "import torch.nn as nn\n",
    "from torchvision.models import convnext_small, ConvNeXt_Small_Weights\n",
    "from torch.utils.data import TensorDataset, DataLoader\n",
    "from tensorflow.keras.preprocessing.image import ImageDataGenerator\n",
    "from tl_tools import *\n",
    "setup_mixed_precision()"
   ]
  },
  {
   "cell_type": "code",
   "execution_count": 3,
   "metadata": {},
   "outputs": [
    {
     "name": "stdout",
     "output_type": "stream",
     "text": [
      "Found 1245 images belonging to 6 classes.\n",
      "Number of batches in the test data: 78\n",
      "Batch size of a single batch 16\n",
      "Number of samples in the test dataset 1245\n",
      "\n"
     ]
    },
    {
     "name": "stderr",
     "output_type": "stream",
     "text": [
      "2024-11-28 13:31:35.309740: I metal_plugin/src/device/metal_device.cc:1154] Metal device set to: Apple M3 Pro\n",
      "2024-11-28 13:31:35.309769: I metal_plugin/src/device/metal_device.cc:296] systemMemory: 18.00 GB\n",
      "2024-11-28 13:31:35.309777: I metal_plugin/src/device/metal_device.cc:313] maxCacheSize: 6.00 GB\n",
      "2024-11-28 13:31:35.309945: I tensorflow/core/common_runtime/pluggable_device/pluggable_device_factory.cc:305] Could not identify NUMA node of platform GPU ID 0, defaulting to 0. Your kernel may not have been built with NUMA support.\n",
      "2024-11-28 13:31:35.309957: I tensorflow/core/common_runtime/pluggable_device/pluggable_device_factory.cc:271] Created TensorFlow device (/job:localhost/replica:0/task:0/device:GPU:0 with 0 MB memory) -> physical PluggableDevice (device: 0, name: METAL, pci bus id: <undefined>)\n"
     ]
    },
    {
     "name": "stdout",
     "output_type": "stream",
     "text": [
      "Shape of image test set: (1245, 256, 256, 3)\n",
      "\n",
      "Shape of label test set: (1245, 6)\n"
     ]
    }
   ],
   "source": [
    "test_dir = '/Users/pimpijnenburg/Desktop/Thesis/USTC_SmokeRS_dataset/data/USTC_SmokeRS/processed/test'\n",
    "test_datagen = ImageDataGenerator(rescale=1./255)\n",
    "test = test_datagen.flow_from_directory(test_dir, color_mode= 'rgb', batch_size = 16, shuffle= True, seed = 1, target_size=(256, 256))\n",
    "\n",
    "X_test, y_test = test_splits(test)\n",
    "\n",
    "X_test = from_numpy(X_test.numpy()).permute(0, 3, 1, 2)\n",
    "y_test = from_numpy(y_test.numpy())\n",
    "\n",
    "test_dataset = TensorDataset(X_test, y_test)\n",
    "test_loader = DataLoader(test_dataset, batch_size = 16, shuffle = False)"
   ]
  },
  {
   "cell_type": "code",
   "execution_count": 4,
   "metadata": {},
   "outputs": [
    {
     "data": {
      "text/plain": [
       "<All keys matched successfully>"
      ]
     },
     "execution_count": 4,
     "metadata": {},
     "output_type": "execute_result"
    }
   ],
   "source": [
    "convnext = convnext_small(weights=ConvNeXt_Small_Weights.IMAGENET1K_V1)\n",
    "convnext.classifier = nn.Sequential(\n",
    "    nn.Flatten(),     \n",
    "    \n",
    "    #FC 1                       \n",
    "    nn.Linear(in_features=768, out_features=64),   \n",
    "    nn.ReLU(),\n",
    "    nn.BatchNorm1d(64), \n",
    "    nn.Dropout1d(p=0.3), \n",
    "           \n",
    "    #FC 2                                           \n",
    "    nn.Linear(in_features=64, out_features=32),\n",
    "    nn.ReLU(), \n",
    "    nn.BatchNorm1d(32),  \n",
    "    nn.Dropout1d(p=0.3), \n",
    "    \n",
    "    #Softmax\n",
    "    nn.Linear(in_features=32, out_features=6),  \n",
    "    nn.Softmax(dim=1)                                           \n",
    ")\n",
    "\n",
    "\n",
    "for param in convnext.features.parameters(): \n",
    "    param.requires_grad = False\n",
    "\n",
    "device = torch.device(\"mps\" if torch.backends.mps.is_available() else \"cpu\")\n",
    "convnext = convnext.to(device)\n",
    "\n",
    "# Load the saved weights\n",
    "checkpoint = torch.load('/Users/pimpijnenburg/Desktop/Thesis/USTC_SmokeRS_dataset/code/transfer_learning/trained_models/convnext_model.pth', weights_only=False)\n",
    "convnext.load_state_dict(checkpoint['model_state_dict'])"
   ]
  },
  {
   "cell_type": "code",
   "execution_count": 5,
   "metadata": {},
   "outputs": [
    {
     "name": "stdout",
     "output_type": "stream",
     "text": [
      "Parameters: 49,401,466\n"
     ]
    }
   ],
   "source": [
    "def count_parameters(model):\n",
    "    return sum(p.numel() for p in model.parameters())\n",
    "\n",
    "total_params = count_parameters(convnext)\n",
    "\n",
    "optimizer_params = sum(\n",
    "    state['exp_avg'].numel() + state['exp_avg_sq'].numel()\n",
    "    for state in checkpoint['optimizer_state_dict']['state'].values()\n",
    ")\n",
    "\n",
    "actual_params = total_params - optimizer_params\n",
    "print(f'Parameters: {actual_params:,}')"
   ]
  },
  {
   "cell_type": "code",
   "execution_count": 6,
   "metadata": {},
   "outputs": [],
   "source": [
    "import time"
   ]
  },
  {
   "cell_type": "code",
   "execution_count": 7,
   "metadata": {},
   "outputs": [],
   "source": [
    "n_runs = 10\n",
    "inference_times = list()\n",
    "\n",
    "true_labels = list()\n",
    "with torch.no_grad():\n",
    "    for _, targets in test_loader:\n",
    "        true_labels.extend(torch.argmax(targets, dim=1).numpy())\n",
    "true_labels = np.array(true_labels)\n",
    "\n",
    "convnext.eval()\n",
    "\n",
    "#Warmup pred\n",
    "with torch.no_grad():\n",
    "    for inputs, targets in test_loader:\n",
    "        inputs = inputs.to(device)\n",
    "        _ = convnext(inputs)\n",
    "\n",
    "for i in range(n_runs):\n",
    "    predictions = list()\n",
    "    start_time = time.time()\n",
    "    \n",
    "    with torch.no_grad():\n",
    "        for inputs, targets in test_loader:\n",
    "            inputs = inputs.to(device)\n",
    "            outputs = convnext(inputs)\n",
    "            _, predicted = torch.max(outputs, 1)\n",
    "            predictions.extend(predicted.cpu().numpy())\n",
    "    \n",
    "    end_time = time.time()\n",
    "    inference_times.append(end_time - start_time)\n",
    "\n",
    "predictions = np.array(predictions)  # keeping last run's predictions"
   ]
  },
  {
   "cell_type": "code",
   "execution_count": 8,
   "metadata": {},
   "outputs": [
    {
     "name": "stdout",
     "output_type": "stream",
     "text": [
      "Average inference time: 15.12 ± 0.05 seconds\n",
      "Average time per image: 12.15 milliseconds\n"
     ]
    }
   ],
   "source": [
    "avg_time = np.mean(inference_times)\n",
    "std_time = np.std(inference_times)\n",
    "time_per_image = avg_time / len(true_labels)  # using actual number of images\n",
    "\n",
    "print(f\"Average inference time: {avg_time:.2f} ± {std_time:.2f} seconds\")\n",
    "print(f\"Average time per image: {time_per_image*1000:.2f} milliseconds\")"
   ]
  },
  {
   "cell_type": "code",
   "execution_count": 9,
   "metadata": {},
   "outputs": [
    {
     "data": {
      "image/png": "[encoded data removed]",
      "text/plain": [
       "<Figure size 1000x800 with 2 Axes>"
      ]
     },
     "metadata": {},
     "output_type": "display_data"
    }
   ],
   "source": [
    "from sklearn.metrics import confusion_matrix\n",
    "import matplotlib.pyplot as plt\n",
    "import seaborn as sns\n",
    "\n",
    "class_labels = list(test.class_indices.keys())\n",
    "confusion_matrix = confusion_matrix(true_labels, predictions)\n",
    "\n",
    "plt.figure(figsize=(10, 8))\n",
    "sns.heatmap(confusion_matrix, annot=True, fmt='d', cmap='Blues', \n",
    "            xticklabels=class_labels, yticklabels=class_labels)\n",
    "plt.title('Confusion Matrix')\n",
    "plt.ylabel('True Label')\n",
    "plt.xlabel('Predicted Label')\n",
    "plt.show()"
   ]
  },
  {
   "cell_type": "code",
   "execution_count": 10,
   "metadata": {},
   "outputs": [],
   "source": [
    "y_pred_proba = list()\n",
    "convnext.eval()\n",
    "with torch.no_grad():\n",
    "   for inputs, targets in test_loader:\n",
    "       inputs = inputs.to(device)\n",
    "       outputs = convnext(inputs)\n",
    "       probs = outputs.cpu().numpy()\n",
    "       y_pred_proba.append(probs)\n",
    "\n",
    "y_pred_proba = np.vstack(y_pred_proba)"
   ]
  },
  {
   "cell_type": "code",
   "execution_count": 11,
   "metadata": {},
   "outputs": [
    {
     "data": {
      "text/html": [
       "<div>\n",
       "<style scoped>\n",
       "    .dataframe tbody tr th:only-of-type {\n",
       "        vertical-align: middle;\n",
       "    }\n",
       "\n",
       "    .dataframe tbody tr th {\n",
       "        vertical-align: top;\n",
       "    }\n",
       "\n",
       "    .dataframe thead th {\n",
       "        text-align: right;\n",
       "    }\n",
       "</style>\n",
       "<table border=\"1\" class=\"dataframe\">\n",
       "  <thead>\n",
       "    <tr style=\"text-align: right;\">\n",
       "      <th></th>\n",
       "      <th>Cloud</th>\n",
       "      <th>Dust</th>\n",
       "      <th>Haze</th>\n",
       "      <th>Land</th>\n",
       "      <th>Seaside</th>\n",
       "      <th>Smoke</th>\n",
       "    </tr>\n",
       "  </thead>\n",
       "  <tbody>\n",
       "    <tr>\n",
       "      <th>Precision</th>\n",
       "      <td>0.88</td>\n",
       "      <td>0.81</td>\n",
       "      <td>0.84</td>\n",
       "      <td>0.93</td>\n",
       "      <td>0.96</td>\n",
       "      <td>0.77</td>\n",
       "    </tr>\n",
       "    <tr>\n",
       "      <th>Recall</th>\n",
       "      <td>0.92</td>\n",
       "      <td>0.80</td>\n",
       "      <td>0.80</td>\n",
       "      <td>0.87</td>\n",
       "      <td>0.94</td>\n",
       "      <td>0.85</td>\n",
       "    </tr>\n",
       "    <tr>\n",
       "      <th>F1-score</th>\n",
       "      <td>0.90</td>\n",
       "      <td>0.81</td>\n",
       "      <td>0.82</td>\n",
       "      <td>0.90</td>\n",
       "      <td>0.95</td>\n",
       "      <td>0.81</td>\n",
       "    </tr>\n",
       "    <tr>\n",
       "      <th>False Negative Rate</th>\n",
       "      <td>0.08</td>\n",
       "      <td>0.20</td>\n",
       "      <td>0.20</td>\n",
       "      <td>0.13</td>\n",
       "      <td>0.06</td>\n",
       "      <td>0.15</td>\n",
       "    </tr>\n",
       "    <tr>\n",
       "      <th>ROC-AUC</th>\n",
       "      <td>0.98</td>\n",
       "      <td>0.97</td>\n",
       "      <td>0.98</td>\n",
       "      <td>0.98</td>\n",
       "      <td>1.00</td>\n",
       "      <td>0.96</td>\n",
       "    </tr>\n",
       "  </tbody>\n",
       "</table>\n",
       "</div>"
      ],
      "text/plain": [
       "                     Cloud  Dust  Haze  Land  Seaside  Smoke\n",
       "Precision             0.88  0.81  0.84  0.93     0.96   0.77\n",
       "Recall                0.92  0.80  0.80  0.87     0.94   0.85\n",
       "F1-score              0.90  0.81  0.82  0.90     0.95   0.81\n",
       "False Negative Rate   0.08  0.20  0.20  0.13     0.06   0.15\n",
       "ROC-AUC               0.98  0.97  0.98  0.98     1.00   0.96"
      ]
     },
     "execution_count": 11,
     "metadata": {},
     "output_type": "execute_result"
    }
   ],
   "source": [
    "from sklearn.metrics import roc_auc_score\n",
    "from sklearn.preprocessing import label_binarize\n",
    "\n",
    "n_classes = len(class_labels)\n",
    "FP = confusion_matrix.sum(axis=0) - np.diag(confusion_matrix)\n",
    "FN = confusion_matrix.sum(axis=1) - np.diag(confusion_matrix)\n",
    "TP = np.diag(confusion_matrix)\n",
    "TN = confusion_matrix.sum() - (FP + FN + TP)\n",
    "\n",
    "\n",
    "y_true_binary = label_binarize(true_labels, classes = np.arange(n_classes))\n",
    "\n",
    "metrics = ['Precision', 'Recall', 'F1-score', 'False Negative Rate', 'ROC-AUC']\n",
    "\n",
    "df_metrics = pd.DataFrame(index=metrics, columns=class_labels)\n",
    "\n",
    "for i in range(n_classes):\n",
    "    df_metrics.iloc[0, i] = TP[i] / (TP[i] + FP[i])\n",
    "    df_metrics.iloc[1, i] = TP[i] / (TP[i] + FN[i])\n",
    "    df_metrics.iloc[2, i] = 2 * TP[i] / (2 * TP[i] + FP[i] + FN[i])\n",
    "    df_metrics.iloc[3, i] = FN[i] / (FN[i] + TP[i])  # False Negative Rate\n",
    "    df_metrics.iloc[4, i] = roc_auc_score(y_true_binary[:, i], y_pred_proba[:, i], average= 'weighted')\n",
    "    \n",
    "def round_fn(input): \n",
    "    return round(input, 2)\n",
    "\n",
    "df_metrics = df_metrics.map(round_fn)\n",
    "df_metrics"
   ]
  },
  {
   "cell_type": "code",
   "execution_count": 12,
   "metadata": {},
   "outputs": [
    {
     "name": "stdout",
     "output_type": "stream",
     "text": [
      "Accuracy Score: 0.87\n",
      "Average Precision Score: 0.86\n",
      "Average Recall Score: 0.86\n",
      "Average F1-score Score: 0.86\n",
      "Average False Negative Rate Score: 0.14\n",
      "Average ROC-AUC Score: 0.98\n"
     ]
    }
   ],
   "source": [
    "from sklearn.metrics import accuracy_score\n",
    "\n",
    "print(f'Accuracy Score: {accuracy_score(true_labels, predictions):.2f}')\n",
    "for index, row in df_metrics.iterrows(): \n",
    "    row_mean = row.mean()\n",
    "    print(f'Average {index} Score: {row_mean:.2f}')"
   ]
  }
 ],
 "metadata": {
  "kernelspec": {
   "display_name": "env",
   "language": "python",
   "name": "python3"
  },
  "language_info": {
   "codemirror_mode": {
    "name": "ipython",
    "version": 3
   },
   "file_extension": ".py",
   "mimetype": "text/x-python",
   "name": "python",
   "nbconvert_exporter": "python",
   "pygments_lexer": "ipython3",
   "version": "3.11.9"
  }
 },
 "nbformat": 4,
 "nbformat_minor": 2
}
