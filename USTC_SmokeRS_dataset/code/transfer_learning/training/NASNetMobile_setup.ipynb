{
 "cells": [
  {
   "cell_type": "code",
   "execution_count": 1,
   "metadata": {},
   "outputs": [],
   "source": [
    "from tl_tools import *\n",
    "from tensorflow.keras.preprocessing.image import ImageDataGenerator\n",
    "from tensorflow.keras.optimizers import Adam\n",
    "from tensorflow.keras.callbacks import EarlyStopping, ReduceLROnPlateau\n",
    "import pandas as pd\n",
    "from tensorflow.keras.applications import NASNetMobile"
   ]
  },
  {
   "cell_type": "code",
   "execution_count": 2,
   "metadata": {},
   "outputs": [
    {
     "name": "stdout",
     "output_type": "stream",
     "text": [
      "Mixed precision policy set to: mixed_float16\n",
      "\n",
      "Found 4980 images belonging to 6 classes.\n",
      "Number of batches in the training data: 312\n",
      "Batch size of a single batch 16\n",
      "Number of samples in the training dataset 4980\n",
      "\n",
      "Number of training data batches with val split of 0.3: 219\n",
      "Number of validation data batches: 93\n",
      "\n"
     ]
    },
    {
     "name": "stderr",
     "output_type": "stream",
     "text": [
      "2024-11-11 17:55:49.392257: I metal_plugin/src/device/metal_device.cc:1154] Metal device set to: Apple M3 Pro\n",
      "2024-11-11 17:55:49.392285: I metal_plugin/src/device/metal_device.cc:296] systemMemory: 18.00 GB\n",
      "2024-11-11 17:55:49.392295: I metal_plugin/src/device/metal_device.cc:313] maxCacheSize: 6.00 GB\n",
      "2024-11-11 17:55:49.392311: I tensorflow/core/common_runtime/pluggable_device/pluggable_device_factory.cc:305] Could not identify NUMA node of platform GPU ID 0, defaulting to 0. Your kernel may not have been built with NUMA support.\n",
      "2024-11-11 17:55:49.392324: I tensorflow/core/common_runtime/pluggable_device/pluggable_device_factory.cc:271] Created TensorFlow device (/job:localhost/replica:0/task:0/device:GPU:0 with 0 MB memory) -> physical PluggableDevice (device: 0, name: METAL, pci bus id: <undefined>)\n"
     ]
    },
    {
     "name": "stdout",
     "output_type": "stream",
     "text": [
      "Shape of image training set: (3504, 256, 256, 3)\n",
      "Shape of image validation set: (1476, 256, 256, 3)\n",
      "\n",
      "Shape of label training set: (3504, 6)\n",
      "Shape of label validation set: (1476, 6)\n"
     ]
    }
   ],
   "source": [
    "setup_mixed_precision()\n",
    "train_dir = '/Users/pimpijnenburg/Desktop/Thesis/USTC_SmokeRS_dataset/data/USTC_SmokeRS/processed/train'\n",
    "\n",
    "train_datagen = ImageDataGenerator(rescale=1./255, horizontal_flip=True ,vertical_flip=True)\n",
    "train =train_datagen.flow_from_directory(train_dir, color_mode= 'rgb', batch_size = 16, shuffle= True, seed = 1, target_size=(256, 256))\n",
    "\n",
    "\n",
    "X_train, y_train, X_val, y_val = train_val_split(train, val_split= 0.3)"
   ]
  },
  {
   "cell_type": "code",
   "execution_count": 3,
   "metadata": {},
   "outputs": [
    {
     "name": "stdout",
     "output_type": "stream",
     "text": [
      "Found 1245 images belonging to 6 classes.\n",
      "Number of batches in the test data: 78\n",
      "Batch size of a single batch 16\n",
      "Number of samples in the test dataset 1245\n",
      "\n",
      "Shape of image test set: (1245, 256, 256, 3)\n",
      "\n",
      "Shape of label test set: (1245, 6)\n"
     ]
    }
   ],
   "source": [
    "test_dir = '/Users/pimpijnenburg/Desktop/Thesis/USTC_SmokeRS_dataset/data/USTC_SmokeRS/processed/test'\n",
    "test_datagen = ImageDataGenerator(rescale=1./255)\n",
    "test = test_datagen.flow_from_directory(test_dir, color_mode= 'rgb', batch_size = 16, shuffle= True, seed = 1, target_size=(256, 256))\n",
    "X_test, y_test = test_splits(test)"
   ]
  },
  {
   "cell_type": "code",
   "execution_count": 4,
   "metadata": {},
   "outputs": [],
   "source": [
    "pooling = 'avg'\n",
    "nasnetmobile = NASNetMobile(weights= 'imagenet',include_top= False, input_shape= (256, 256, 3), pooling = pooling)\n",
    "nasnetmobile.trainable = False\n",
    "\n",
    "model = fc_layers(nasnetmobile, name= 'nasnet_mobile')"
   ]
  },
  {
   "cell_type": "code",
   "execution_count": 5,
   "metadata": {},
   "outputs": [
    {
     "name": "stdout",
     "output_type": "stream",
     "text": [
      "Epoch 1/50\n"
     ]
    },
    {
     "name": "stderr",
     "output_type": "stream",
     "text": [
      "2024-11-11 17:56:00.560019: I tensorflow/core/grappler/optimizers/custom_graph_optimizer_registry.cc:117] Plugin optimizer for device_type GPU is enabled.\n"
     ]
    },
    {
     "name": "stdout",
     "output_type": "stream",
     "text": [
      "\u001b[1m110/110\u001b[0m \u001b[32m━━━━━━━━━━━━━━━━━━━━\u001b[0m\u001b[37m\u001b[0m \u001b[1m60s\u001b[0m 394ms/step - F1Score: 0.4274 - accuracy: 0.4396 - loss: 1.5810 - val_F1Score: 0.7180 - val_accuracy: 0.7215 - val_loss: 0.8534 - learning_rate: 0.0010\n",
      "Epoch 2/50\n",
      "\u001b[1m110/110\u001b[0m \u001b[32m━━━━━━━━━━━━━━━━━━━━\u001b[0m\u001b[37m\u001b[0m \u001b[1m25s\u001b[0m 223ms/step - F1Score: 0.6865 - accuracy: 0.6961 - loss: 0.8517 - val_F1Score: 0.7653 - val_accuracy: 0.7663 - val_loss: 0.6829 - learning_rate: 0.0010\n",
      "Epoch 3/50\n",
      "\u001b[1m110/110\u001b[0m \u001b[32m━━━━━━━━━━━━━━━━━━━━\u001b[0m\u001b[37m\u001b[0m \u001b[1m25s\u001b[0m 226ms/step - F1Score: 0.7280 - accuracy: 0.7324 - loss: 0.7286 - val_F1Score: 0.7868 - val_accuracy: 0.7893 - val_loss: 0.6055 - learning_rate: 0.0010\n",
      "Epoch 4/50\n",
      "\u001b[1m110/110\u001b[0m \u001b[32m━━━━━━━━━━━━━━━━━━━━\u001b[0m\u001b[37m\u001b[0m \u001b[1m25s\u001b[0m 227ms/step - F1Score: 0.7588 - accuracy: 0.7621 - loss: 0.6836 - val_F1Score: 0.7867 - val_accuracy: 0.7940 - val_loss: 0.6189 - learning_rate: 0.0010\n",
      "Epoch 5/50\n",
      "\u001b[1m110/110\u001b[0m \u001b[32m━━━━━━━━━━━━━━━━━━━━\u001b[0m\u001b[37m\u001b[0m \u001b[1m25s\u001b[0m 230ms/step - F1Score: 0.8082 - accuracy: 0.8126 - loss: 0.5302 - val_F1Score: 0.7908 - val_accuracy: 0.7947 - val_loss: 0.5717 - learning_rate: 0.0010\n",
      "Epoch 6/50\n",
      "\u001b[1m110/110\u001b[0m \u001b[32m━━━━━━━━━━━━━━━━━━━━\u001b[0m\u001b[37m\u001b[0m \u001b[1m25s\u001b[0m 224ms/step - F1Score: 0.8071 - accuracy: 0.8096 - loss: 0.5660 - val_F1Score: 0.7951 - val_accuracy: 0.8001 - val_loss: 0.5705 - learning_rate: 0.0010\n",
      "Epoch 7/50\n",
      "\u001b[1m110/110\u001b[0m \u001b[32m━━━━━━━━━━━━━━━━━━━━\u001b[0m\u001b[37m\u001b[0m \u001b[1m25s\u001b[0m 223ms/step - F1Score: 0.8299 - accuracy: 0.8357 - loss: 0.4712 - val_F1Score: 0.7940 - val_accuracy: 0.7927 - val_loss: 0.6034 - learning_rate: 0.0010\n",
      "Epoch 8/50\n",
      "\u001b[1m110/110\u001b[0m \u001b[32m━━━━━━━━━━━━━━━━━━━━\u001b[0m\u001b[37m\u001b[0m \u001b[1m25s\u001b[0m 226ms/step - F1Score: 0.8461 - accuracy: 0.8501 - loss: 0.4421 - val_F1Score: 0.7932 - val_accuracy: 0.7947 - val_loss: 0.5819 - learning_rate: 0.0010\n",
      "Epoch 9/50\n",
      "\u001b[1m110/110\u001b[0m \u001b[32m━━━━━━━━━━━━━━━━━━━━\u001b[0m\u001b[37m\u001b[0m \u001b[1m25s\u001b[0m 227ms/step - F1Score: 0.8382 - accuracy: 0.8411 - loss: 0.4387 - val_F1Score: 0.7939 - val_accuracy: 0.7967 - val_loss: 0.5599 - learning_rate: 0.0010\n",
      "Epoch 10/50\n",
      "\u001b[1m110/110\u001b[0m \u001b[32m━━━━━━━━━━━━━━━━━━━━\u001b[0m\u001b[37m\u001b[0m \u001b[1m26s\u001b[0m 238ms/step - F1Score: 0.8591 - accuracy: 0.8611 - loss: 0.3880 - val_F1Score: 0.8127 - val_accuracy: 0.8171 - val_loss: 0.5352 - learning_rate: 0.0010\n",
      "Epoch 11/50\n",
      "\u001b[1m110/110\u001b[0m \u001b[32m━━━━━━━━━━━━━━━━━━━━\u001b[0m\u001b[37m\u001b[0m \u001b[1m25s\u001b[0m 227ms/step - F1Score: 0.8437 - accuracy: 0.8472 - loss: 0.4148 - val_F1Score: 0.7966 - val_accuracy: 0.7995 - val_loss: 0.5976 - learning_rate: 0.0010\n",
      "Epoch 12/50\n",
      "\u001b[1m110/110\u001b[0m \u001b[32m━━━━━━━━━━━━━━━━━━━━\u001b[0m\u001b[37m\u001b[0m \u001b[1m25s\u001b[0m 225ms/step - F1Score: 0.8779 - accuracy: 0.8797 - loss: 0.3635 - val_F1Score: 0.7990 - val_accuracy: 0.8022 - val_loss: 0.5982 - learning_rate: 0.0010\n",
      "Epoch 13/50\n",
      "\u001b[1m110/110\u001b[0m \u001b[32m━━━━━━━━━━━━━━━━━━━━\u001b[0m\u001b[37m\u001b[0m \u001b[1m25s\u001b[0m 224ms/step - F1Score: 0.8749 - accuracy: 0.8758 - loss: 0.3640 - val_F1Score: 0.8006 - val_accuracy: 0.8015 - val_loss: 0.5710 - learning_rate: 0.0010\n",
      "Epoch 14/50\n",
      "\u001b[1m110/110\u001b[0m \u001b[32m━━━━━━━━━━━━━━━━━━━━\u001b[0m\u001b[37m\u001b[0m \u001b[1m25s\u001b[0m 226ms/step - F1Score: 0.8629 - accuracy: 0.8647 - loss: 0.3946 - val_F1Score: 0.8121 - val_accuracy: 0.8130 - val_loss: 0.5615 - learning_rate: 0.0010\n",
      "Epoch 15/50\n",
      "\u001b[1m110/110\u001b[0m \u001b[32m━━━━━━━━━━━━━━━━━━━━\u001b[0m\u001b[37m\u001b[0m \u001b[1m25s\u001b[0m 225ms/step - F1Score: 0.8918 - accuracy: 0.8934 - loss: 0.3178 - val_F1Score: 0.7992 - val_accuracy: 0.8001 - val_loss: 0.6503 - learning_rate: 0.0010\n",
      "Epoch 16/50\n",
      "\u001b[1m110/110\u001b[0m \u001b[32m━━━━━━━━━━━━━━━━━━━━\u001b[0m\u001b[37m\u001b[0m \u001b[1m25s\u001b[0m 227ms/step - F1Score: 0.9018 - accuracy: 0.9032 - loss: 0.3037 - val_F1Score: 0.8024 - val_accuracy: 0.8028 - val_loss: 0.6181 - learning_rate: 0.0010\n",
      "Epoch 17/50\n",
      "\u001b[1m110/110\u001b[0m \u001b[32m━━━━━━━━━━━━━━━━━━━━\u001b[0m\u001b[37m\u001b[0m \u001b[1m25s\u001b[0m 226ms/step - F1Score: 0.9036 - accuracy: 0.9048 - loss: 0.2897 - val_F1Score: 0.8113 - val_accuracy: 0.8103 - val_loss: 0.5823 - learning_rate: 0.0010\n",
      "Epoch 18/50\n",
      "\u001b[1m110/110\u001b[0m \u001b[32m━━━━━━━━━━━━━━━━━━━━\u001b[0m\u001b[37m\u001b[0m \u001b[1m25s\u001b[0m 226ms/step - F1Score: 0.8878 - accuracy: 0.8899 - loss: 0.2981 - val_F1Score: 0.7938 - val_accuracy: 0.7974 - val_loss: 0.6068 - learning_rate: 0.0010\n",
      "Epoch 19/50\n",
      "\u001b[1m110/110\u001b[0m \u001b[32m━━━━━━━━━━━━━━━━━━━━\u001b[0m\u001b[37m\u001b[0m \u001b[1m25s\u001b[0m 227ms/step - F1Score: 0.9035 - accuracy: 0.9078 - loss: 0.2746 - val_F1Score: 0.8045 - val_accuracy: 0.8076 - val_loss: 0.6029 - learning_rate: 5.0000e-04\n",
      "Epoch 20/50\n",
      "\u001b[1m110/110\u001b[0m \u001b[32m━━━━━━━━━━━━━━━━━━━━\u001b[0m\u001b[37m\u001b[0m \u001b[1m25s\u001b[0m 226ms/step - F1Score: 0.9228 - accuracy: 0.9239 - loss: 0.2267 - val_F1Score: 0.8075 - val_accuracy: 0.8083 - val_loss: 0.6018 - learning_rate: 5.0000e-04\n",
      "Epoch 21/50\n",
      "\u001b[1m110/110\u001b[0m \u001b[32m━━━━━━━━━━━━━━━━━━━━\u001b[0m\u001b[37m\u001b[0m \u001b[1m26s\u001b[0m 234ms/step - F1Score: 0.9231 - accuracy: 0.9235 - loss: 0.2350 - val_F1Score: 0.8059 - val_accuracy: 0.8083 - val_loss: 0.6022 - learning_rate: 5.0000e-04\n",
      "Epoch 22/50\n",
      "\u001b[1m110/110\u001b[0m \u001b[32m━━━━━━━━━━━━━━━━━━━━\u001b[0m\u001b[37m\u001b[0m \u001b[1m26s\u001b[0m 234ms/step - F1Score: 0.9306 - accuracy: 0.9321 - loss: 0.2077 - val_F1Score: 0.8064 - val_accuracy: 0.8076 - val_loss: 0.5954 - learning_rate: 5.0000e-04\n",
      "Epoch 23/50\n",
      "\u001b[1m110/110\u001b[0m \u001b[32m━━━━━━━━━━━━━━━━━━━━\u001b[0m\u001b[37m\u001b[0m \u001b[1m25s\u001b[0m 225ms/step - F1Score: 0.9270 - accuracy: 0.9288 - loss: 0.2186 - val_F1Score: 0.8108 - val_accuracy: 0.8123 - val_loss: 0.6347 - learning_rate: 5.0000e-04\n",
      "Epoch 24/50\n",
      "\u001b[1m110/110\u001b[0m \u001b[32m━━━━━━━━━━━━━━━━━━━━\u001b[0m\u001b[37m\u001b[0m \u001b[1m25s\u001b[0m 225ms/step - F1Score: 0.9240 - accuracy: 0.9256 - loss: 0.2189 - val_F1Score: 0.7996 - val_accuracy: 0.8035 - val_loss: 0.6499 - learning_rate: 5.0000e-04\n",
      "Epoch 25/50\n",
      "\u001b[1m110/110\u001b[0m \u001b[32m━━━━━━━━━━━━━━━━━━━━\u001b[0m\u001b[37m\u001b[0m \u001b[1m25s\u001b[0m 225ms/step - F1Score: 0.9258 - accuracy: 0.9269 - loss: 0.2100 - val_F1Score: 0.7983 - val_accuracy: 0.8001 - val_loss: 0.6443 - learning_rate: 5.0000e-04\n",
      "Epoch 26/50\n",
      "\u001b[1m110/110\u001b[0m \u001b[32m━━━━━━━━━━━━━━━━━━━━\u001b[0m\u001b[37m\u001b[0m \u001b[1m25s\u001b[0m 224ms/step - F1Score: 0.9298 - accuracy: 0.9320 - loss: 0.2121 - val_F1Score: 0.8135 - val_accuracy: 0.8150 - val_loss: 0.6291 - learning_rate: 5.0000e-04\n",
      "Epoch 27/50\n",
      "\u001b[1m110/110\u001b[0m \u001b[32m━━━━━━━━━━━━━━━━━━━━\u001b[0m\u001b[37m\u001b[0m \u001b[1m25s\u001b[0m 225ms/step - F1Score: 0.9352 - accuracy: 0.9373 - loss: 0.1735 - val_F1Score: 0.8111 - val_accuracy: 0.8117 - val_loss: 0.6278 - learning_rate: 2.5000e-04\n",
      "Epoch 28/50\n",
      "\u001b[1m110/110\u001b[0m \u001b[32m━━━━━━━━━━━━━━━━━━━━\u001b[0m\u001b[37m\u001b[0m \u001b[1m25s\u001b[0m 230ms/step - F1Score: 0.9324 - accuracy: 0.9334 - loss: 0.2016 - val_F1Score: 0.8101 - val_accuracy: 0.8110 - val_loss: 0.6474 - learning_rate: 2.5000e-04\n",
      "Epoch 29/50\n",
      "\u001b[1m110/110\u001b[0m \u001b[32m━━━━━━━━━━━━━━━━━━━━\u001b[0m\u001b[37m\u001b[0m \u001b[1m25s\u001b[0m 228ms/step - F1Score: 0.9432 - accuracy: 0.9438 - loss: 0.1639 - val_F1Score: 0.8146 - val_accuracy: 0.8164 - val_loss: 0.6330 - learning_rate: 2.5000e-04\n",
      "Epoch 30/50\n",
      "\u001b[1m110/110\u001b[0m \u001b[32m━━━━━━━━━━━━━━━━━━━━\u001b[0m\u001b[37m\u001b[0m \u001b[1m25s\u001b[0m 228ms/step - F1Score: 0.9454 - accuracy: 0.9467 - loss: 0.1523 - val_F1Score: 0.8118 - val_accuracy: 0.8137 - val_loss: 0.6347 - learning_rate: 2.5000e-04\n",
      "Epoch 31/50\n",
      "\u001b[1m110/110\u001b[0m \u001b[32m━━━━━━━━━━━━━━━━━━━━\u001b[0m\u001b[37m\u001b[0m \u001b[1m25s\u001b[0m 228ms/step - F1Score: 0.9514 - accuracy: 0.9527 - loss: 0.1537 - val_F1Score: 0.8116 - val_accuracy: 0.8123 - val_loss: 0.6532 - learning_rate: 2.5000e-04\n",
      "Epoch 32/50\n",
      "\u001b[1m110/110\u001b[0m \u001b[32m━━━━━━━━━━━━━━━━━━━━\u001b[0m\u001b[37m\u001b[0m \u001b[1m25s\u001b[0m 225ms/step - F1Score: 0.9474 - accuracy: 0.9490 - loss: 0.1556 - val_F1Score: 0.8168 - val_accuracy: 0.8171 - val_loss: 0.6596 - learning_rate: 2.5000e-04\n",
      "Epoch 33/50\n",
      "\u001b[1m110/110\u001b[0m \u001b[32m━━━━━━━━━━━━━━━━━━━━\u001b[0m\u001b[37m\u001b[0m \u001b[1m25s\u001b[0m 228ms/step - F1Score: 0.9506 - accuracy: 0.9514 - loss: 0.1491 - val_F1Score: 0.8146 - val_accuracy: 0.8150 - val_loss: 0.6678 - learning_rate: 2.5000e-04\n",
      "Epoch 34/50\n",
      "\u001b[1m110/110\u001b[0m \u001b[32m━━━━━━━━━━━━━━━━━━━━\u001b[0m\u001b[37m\u001b[0m \u001b[1m25s\u001b[0m 228ms/step - F1Score: 0.9478 - accuracy: 0.9487 - loss: 0.1553 - val_F1Score: 0.8180 - val_accuracy: 0.8191 - val_loss: 0.6730 - learning_rate: 2.5000e-04\n",
      "Epoch 35/50\n",
      "\u001b[1m110/110\u001b[0m \u001b[32m━━━━━━━━━━━━━━━━━━━━\u001b[0m\u001b[37m\u001b[0m \u001b[1m25s\u001b[0m 227ms/step - F1Score: 0.9531 - accuracy: 0.9535 - loss: 0.1390 - val_F1Score: 0.8137 - val_accuracy: 0.8150 - val_loss: 0.6714 - learning_rate: 1.2500e-04\n",
      "Epoch 36/50\n",
      "\u001b[1m110/110\u001b[0m \u001b[32m━━━━━━━━━━━━━━━━━━━━\u001b[0m\u001b[37m\u001b[0m \u001b[1m25s\u001b[0m 227ms/step - F1Score: 0.9640 - accuracy: 0.9646 - loss: 0.1261 - val_F1Score: 0.8145 - val_accuracy: 0.8150 - val_loss: 0.6663 - learning_rate: 1.2500e-04\n",
      "Epoch 37/50\n",
      "\u001b[1m110/110\u001b[0m \u001b[32m━━━━━━━━━━━━━━━━━━━━\u001b[0m\u001b[37m\u001b[0m \u001b[1m25s\u001b[0m 227ms/step - F1Score: 0.9585 - accuracy: 0.9592 - loss: 0.1315 - val_F1Score: 0.8145 - val_accuracy: 0.8150 - val_loss: 0.6780 - learning_rate: 1.2500e-04\n"
     ]
    }
   ],
   "source": [
    "model.compile(optimizer=Adam(learning_rate = 0.001, clipnorm= 1.0),\n",
    "                     loss='categorical_crossentropy', \n",
    "                     metrics=['accuracy', 'F1Score'])\n",
    "\n",
    "early_stopping = EarlyStopping(monitor='val_loss', patience=15,restore_best_weights=True, start_from_epoch=20)\n",
    "reduce_lr = ReduceLROnPlateau(monitor='val_loss', factor=0.5, patience=8, min_lr=1e-6)\n",
    "\n",
    "history =  model.fit(X_train, y_train, validation_data=(X_val, y_val), epochs=50, verbose=1, \n",
    "                            callbacks= [early_stopping, reduce_lr])"
   ]
  },
  {
   "cell_type": "code",
   "execution_count": 6,
   "metadata": {},
   "outputs": [],
   "source": [
    "path = '/Users/pimpijnenburg/Desktop/Thesis/USTC_SmokeRS_dataset/code/transfer_learning/trained_models'\n",
    "model_save_path = os.path.join(path, 'nasnet_mobile.keras')\n",
    "model.save(model_save_path) "
   ]
  }
 ],
 "metadata": {
  "kernelspec": {
   "display_name": "Python 3",
   "language": "python",
   "name": "python3"
  },
  "language_info": {
   "codemirror_mode": {
    "name": "ipython",
    "version": 3
   },
   "file_extension": ".py",
   "mimetype": "text/x-python",
   "name": "python",
   "nbconvert_exporter": "python",
   "pygments_lexer": "ipython3",
   "version": "3.11.9"
  }
 },
 "nbformat": 4,
 "nbformat_minor": 2
}
