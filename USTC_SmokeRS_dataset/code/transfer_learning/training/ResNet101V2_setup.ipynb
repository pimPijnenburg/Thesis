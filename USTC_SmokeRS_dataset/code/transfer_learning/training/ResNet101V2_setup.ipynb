{
 "cells": [
  {
   "cell_type": "code",
   "execution_count": 6,
   "metadata": {},
   "outputs": [],
   "source": [
    "from tl_tools import *\n",
    "from tensorflow.keras.preprocessing.image import ImageDataGenerator\n",
    "from tensorflow.keras.optimizers import Adam\n",
    "from tensorflow.keras.callbacks import EarlyStopping, ReduceLROnPlateau\n",
    "import pandas as pd\n",
    "from tensorflow.keras.applications import ResNet101V2"
   ]
  },
  {
   "cell_type": "code",
   "execution_count": 7,
   "metadata": {},
   "outputs": [
    {
     "name": "stdout",
     "output_type": "stream",
     "text": [
      "Mixed precision policy set to: mixed_float16\n",
      "\n",
      "Found 4980 images belonging to 6 classes.\n",
      "Number of batches in the training data: 312\n",
      "Batch size of a single batch 16\n",
      "Number of samples in the training dataset 4980\n",
      "\n",
      "Number of training data batches with val split of 0.3: 219\n",
      "Number of validation data batches: 93\n",
      "\n",
      "Shape of image training set: (3504, 256, 256, 3)\n",
      "Shape of image validation set: (1476, 256, 256, 3)\n",
      "\n",
      "Shape of label training set: (3504, 6)\n",
      "Shape of label validation set: (1476, 6)\n"
     ]
    }
   ],
   "source": [
    "setup_mixed_precision()\n",
    "train_dir = '/Users/pimpijnenburg/Desktop/Thesis/USTC_SmokeRS_dataset/data/USTC_SmokeRS/processed/train'\n",
    "\n",
    "train_datagen = ImageDataGenerator(rescale=1./255, horizontal_flip=True ,vertical_flip=True)\n",
    "train =train_datagen.flow_from_directory(train_dir, color_mode= 'rgb', batch_size = 16, shuffle= True, seed = 1, target_size=(256, 256))\n",
    "\n",
    "\n",
    "X_train, y_train, X_val, y_val = train_val_split(train, val_split= 0.3)"
   ]
  },
  {
   "cell_type": "code",
   "execution_count": 8,
   "metadata": {},
   "outputs": [],
   "source": [
    "pooling = 'avg'\n",
    "resnet101v2 = ResNet101V2(weights= 'imagenet',include_top= False, input_shape= (256, 256, 3), pooling = pooling)\n",
    "resnet101v2.trainable = False\n",
    "\n",
    "model = fc_layers(resnet101v2, name = 'resnet101v2')"
   ]
  },
  {
   "cell_type": "code",
   "execution_count": null,
   "metadata": {},
   "outputs": [
    {
     "name": "stdout",
     "output_type": "stream",
     "text": [
      "Epoch 1/50\n",
      "\u001b[1m110/110\u001b[0m \u001b[32m━━━━━━━━━━━━━━━━━━━━\u001b[0m\u001b[37m\u001b[0m \u001b[1m70s\u001b[0m 558ms/step - F1Score: 0.4668 - accuracy: 0.4734 - loss: 1.5085 - val_F1Score: 0.7376 - val_accuracy: 0.7337 - val_loss: 0.7739 - learning_rate: 0.0010\n",
      "Epoch 2/50\n",
      "\u001b[1m110/110\u001b[0m \u001b[32m━━━━━━━━━━━━━━━━━━━━\u001b[0m\u001b[37m\u001b[0m \u001b[1m54s\u001b[0m 492ms/step - F1Score: 0.7471 - accuracy: 0.7552 - loss: 0.7035 - val_F1Score: 0.7914 - val_accuracy: 0.7947 - val_loss: 0.5961 - learning_rate: 0.0010\n",
      "Epoch 3/50\n",
      "\u001b[1m110/110\u001b[0m \u001b[32m━━━━━━━━━━━━━━━━━━━━\u001b[0m\u001b[37m\u001b[0m \u001b[1m54s\u001b[0m 488ms/step - F1Score: 0.8109 - accuracy: 0.8150 - loss: 0.5450 - val_F1Score: 0.7843 - val_accuracy: 0.7818 - val_loss: 0.6019 - learning_rate: 0.0010\n",
      "Epoch 4/50\n",
      "\u001b[1m110/110\u001b[0m \u001b[32m━━━━━━━━━━━━━━━━━━━━\u001b[0m\u001b[37m\u001b[0m \u001b[1m53s\u001b[0m 486ms/step - F1Score: 0.8267 - accuracy: 0.8305 - loss: 0.5139 - val_F1Score: 0.8235 - val_accuracy: 0.8259 - val_loss: 0.5065 - learning_rate: 0.0010\n",
      "Epoch 5/50\n",
      "\u001b[1m110/110\u001b[0m \u001b[32m━━━━━━━━━━━━━━━━━━━━\u001b[0m\u001b[37m\u001b[0m \u001b[1m54s\u001b[0m 487ms/step - F1Score: 0.8507 - accuracy: 0.8539 - loss: 0.4489 - val_F1Score: 0.8280 - val_accuracy: 0.8293 - val_loss: 0.4755 - learning_rate: 0.0010\n",
      "Epoch 6/50\n",
      "\u001b[1m110/110\u001b[0m \u001b[32m━━━━━━━━━━━━━━━━━━━━\u001b[0m\u001b[37m\u001b[0m \u001b[1m54s\u001b[0m 489ms/step - F1Score: 0.8899 - accuracy: 0.8933 - loss: 0.3427 - val_F1Score: 0.8170 - val_accuracy: 0.8184 - val_loss: 0.5096 - learning_rate: 0.0010\n",
      "Epoch 7/50\n",
      "\u001b[1m110/110\u001b[0m \u001b[32m━━━━━━━━━━━━━━━━━━━━\u001b[0m\u001b[37m\u001b[0m \u001b[1m54s\u001b[0m 490ms/step - F1Score: 0.8880 - accuracy: 0.8900 - loss: 0.3254 - val_F1Score: 0.8361 - val_accuracy: 0.8381 - val_loss: 0.4627 - learning_rate: 0.0010\n",
      "Epoch 8/50\n",
      "\u001b[1m110/110\u001b[0m \u001b[32m━━━━━━━━━━━━━━━━━━━━\u001b[0m\u001b[37m\u001b[0m \u001b[1m54s\u001b[0m 490ms/step - F1Score: 0.9066 - accuracy: 0.9076 - loss: 0.2789 - val_F1Score: 0.8373 - val_accuracy: 0.8374 - val_loss: 0.4796 - learning_rate: 0.0010\n",
      "Epoch 9/50\n",
      "\u001b[1m110/110\u001b[0m \u001b[32m━━━━━━━━━━━━━━━━━━━━\u001b[0m\u001b[37m\u001b[0m \u001b[1m54s\u001b[0m 489ms/step - F1Score: 0.9123 - accuracy: 0.9145 - loss: 0.2550 - val_F1Score: 0.8431 - val_accuracy: 0.8449 - val_loss: 0.4970 - learning_rate: 0.0010\n",
      "Epoch 10/50\n",
      "\u001b[1m110/110\u001b[0m \u001b[32m━━━━━━━━━━━━━━━━━━━━\u001b[0m\u001b[37m\u001b[0m \u001b[1m54s\u001b[0m 489ms/step - F1Score: 0.9262 - accuracy: 0.9273 - loss: 0.2202 - val_F1Score: 0.8233 - val_accuracy: 0.8272 - val_loss: 0.5160 - learning_rate: 0.0010\n",
      "Epoch 11/50\n",
      "\u001b[1m110/110\u001b[0m \u001b[32m━━━━━━━━━━━━━━━━━━━━\u001b[0m\u001b[37m\u001b[0m \u001b[1m54s\u001b[0m 490ms/step - F1Score: 0.9113 - accuracy: 0.9133 - loss: 0.2423 - val_F1Score: 0.8408 - val_accuracy: 0.8421 - val_loss: 0.4672 - learning_rate: 0.0010\n",
      "Epoch 12/50\n",
      "\u001b[1m110/110\u001b[0m \u001b[32m━━━━━━━━━━━━━━━━━━━━\u001b[0m\u001b[37m\u001b[0m \u001b[1m54s\u001b[0m 490ms/step - F1Score: 0.9352 - accuracy: 0.9361 - loss: 0.1831 - val_F1Score: 0.8370 - val_accuracy: 0.8394 - val_loss: 0.5010 - learning_rate: 0.0010\n",
      "Epoch 13/50\n",
      "\u001b[1m110/110\u001b[0m \u001b[32m━━━━━━━━━━━━━━━━━━━━\u001b[0m\u001b[37m\u001b[0m \u001b[1m54s\u001b[0m 490ms/step - F1Score: 0.9446 - accuracy: 0.9462 - loss: 0.1738 - val_F1Score: 0.8312 - val_accuracy: 0.8299 - val_loss: 0.5234 - learning_rate: 0.0010\n",
      "Epoch 14/50\n",
      "\u001b[1m110/110\u001b[0m \u001b[32m━━━━━━━━━━━━━━━━━━━━\u001b[0m\u001b[37m\u001b[0m \u001b[1m54s\u001b[0m 492ms/step - F1Score: 0.9449 - accuracy: 0.9463 - loss: 0.1514 - val_F1Score: 0.8364 - val_accuracy: 0.8354 - val_loss: 0.5577 - learning_rate: 0.0010\n",
      "Epoch 15/50\n",
      "\u001b[1m110/110\u001b[0m \u001b[32m━━━━━━━━━━━━━━━━━━━━\u001b[0m\u001b[37m\u001b[0m \u001b[1m54s\u001b[0m 490ms/step - F1Score: 0.9466 - accuracy: 0.9486 - loss: 0.1611 - val_F1Score: 0.8414 - val_accuracy: 0.8442 - val_loss: 0.4863 - learning_rate: 0.0010\n",
      "Epoch 16/50\n",
      "\u001b[1m110/110\u001b[0m \u001b[32m━━━━━━━━━━━━━━━━━━━━\u001b[0m\u001b[37m\u001b[0m \u001b[1m53s\u001b[0m 487ms/step - F1Score: 0.9604 - accuracy: 0.9609 - loss: 0.1278 - val_F1Score: 0.8410 - val_accuracy: 0.8442 - val_loss: 0.4982 - learning_rate: 5.0000e-04\n",
      "Epoch 17/50\n",
      "\u001b[1m110/110\u001b[0m \u001b[32m━━━━━━━━━━━━━━━━━━━━\u001b[0m\u001b[37m\u001b[0m \u001b[1m54s\u001b[0m 489ms/step - F1Score: 0.9583 - accuracy: 0.9589 - loss: 0.1206 - val_F1Score: 0.8527 - val_accuracy: 0.8550 - val_loss: 0.5099 - learning_rate: 5.0000e-04\n",
      "Epoch 18/50\n",
      "\u001b[1m110/110\u001b[0m \u001b[32m━━━━━━━━━━━━━━━━━━━━\u001b[0m\u001b[37m\u001b[0m \u001b[1m54s\u001b[0m 492ms/step - F1Score: 0.9610 - accuracy: 0.9613 - loss: 0.1185 - val_F1Score: 0.8408 - val_accuracy: 0.8428 - val_loss: 0.5280 - learning_rate: 5.0000e-04\n",
      "Epoch 19/50\n",
      "\u001b[1m110/110\u001b[0m \u001b[32m━━━━━━━━━━━━━━━━━━━━\u001b[0m\u001b[37m\u001b[0m \u001b[1m54s\u001b[0m 491ms/step - F1Score: 0.9684 - accuracy: 0.9690 - loss: 0.1022 - val_F1Score: 0.8503 - val_accuracy: 0.8516 - val_loss: 0.5218 - learning_rate: 5.0000e-04\n",
      "Epoch 20/50\n",
      "\u001b[1m110/110\u001b[0m \u001b[32m━━━━━━━━━━━━━━━━━━━━\u001b[0m\u001b[37m\u001b[0m \u001b[1m54s\u001b[0m 489ms/step - F1Score: 0.9762 - accuracy: 0.9765 - loss: 0.0867 - val_F1Score: 0.8477 - val_accuracy: 0.8482 - val_loss: 0.5440 - learning_rate: 5.0000e-04\n",
      "Epoch 21/50\n",
      "\u001b[1m110/110\u001b[0m \u001b[32m━━━━━━━━━━━━━━━━━━━━\u001b[0m\u001b[37m\u001b[0m \u001b[1m54s\u001b[0m 490ms/step - F1Score: 0.9716 - accuracy: 0.9717 - loss: 0.0854 - val_F1Score: 0.8431 - val_accuracy: 0.8442 - val_loss: 0.5630 - learning_rate: 5.0000e-04\n",
      "Epoch 22/50\n",
      "\u001b[1m110/110\u001b[0m \u001b[32m━━━━━━━━━━━━━━━━━━━━\u001b[0m\u001b[37m\u001b[0m \u001b[1m54s\u001b[0m 489ms/step - F1Score: 0.9766 - accuracy: 0.9767 - loss: 0.0825 - val_F1Score: 0.8410 - val_accuracy: 0.8421 - val_loss: 0.5578 - learning_rate: 5.0000e-04\n",
      "Epoch 23/50\n",
      "\u001b[1m110/110\u001b[0m \u001b[32m━━━━━━━━━━━━━━━━━━━━\u001b[0m\u001b[37m\u001b[0m \u001b[1m54s\u001b[0m 488ms/step - F1Score: 0.9684 - accuracy: 0.9689 - loss: 0.0913 - val_F1Score: 0.8455 - val_accuracy: 0.8476 - val_loss: 0.5840 - learning_rate: 5.0000e-04\n",
      "Epoch 24/50\n",
      "\u001b[1m110/110\u001b[0m \u001b[32m━━━━━━━━━━━━━━━━━━━━\u001b[0m\u001b[37m\u001b[0m \u001b[1m54s\u001b[0m 488ms/step - F1Score: 0.9731 - accuracy: 0.9731 - loss: 0.0765 - val_F1Score: 0.8498 - val_accuracy: 0.8516 - val_loss: 0.5609 - learning_rate: 2.5000e-04\n",
      "Epoch 25/50\n",
      "\u001b[1m110/110\u001b[0m \u001b[32m━━━━━━━━━━━━━━━━━━━━\u001b[0m\u001b[37m\u001b[0m \u001b[1m54s\u001b[0m 489ms/step - F1Score: 0.9813 - accuracy: 0.9816 - loss: 0.0646 - val_F1Score: 0.8408 - val_accuracy: 0.8408 - val_loss: 0.5923 - learning_rate: 2.5000e-04\n",
      "Epoch 26/50\n",
      "\u001b[1m110/110\u001b[0m \u001b[32m━━━━━━━━━━━━━━━━━━━━\u001b[0m\u001b[37m\u001b[0m \u001b[1m54s\u001b[0m 489ms/step - F1Score: 0.9820 - accuracy: 0.9822 - loss: 0.0565 - val_F1Score: 0.8473 - val_accuracy: 0.8482 - val_loss: 0.5784 - learning_rate: 2.5000e-04\n",
      "Epoch 27/50\n",
      "\u001b[1m110/110\u001b[0m \u001b[32m━━━━━━━━━━━━━━━━━━━━\u001b[0m\u001b[37m\u001b[0m \u001b[1m54s\u001b[0m 490ms/step - F1Score: 0.9872 - accuracy: 0.9876 - loss: 0.0484 - val_F1Score: 0.8505 - val_accuracy: 0.8509 - val_loss: 0.5844 - learning_rate: 2.5000e-04\n",
      "Epoch 28/50\n",
      "\u001b[1m110/110\u001b[0m \u001b[32m━━━━━━━━━━━━━━━━━━━━\u001b[0m\u001b[37m\u001b[0m \u001b[1m54s\u001b[0m 490ms/step - F1Score: 0.9841 - accuracy: 0.9846 - loss: 0.0566 - val_F1Score: 0.8444 - val_accuracy: 0.8455 - val_loss: 0.5941 - learning_rate: 2.5000e-04\n",
      "Epoch 29/50\n",
      "\u001b[1m110/110\u001b[0m \u001b[32m━━━━━━━━━━━━━━━━━━━━\u001b[0m\u001b[37m\u001b[0m \u001b[1m54s\u001b[0m 490ms/step - F1Score: 0.9881 - accuracy: 0.9884 - loss: 0.0471 - val_F1Score: 0.8494 - val_accuracy: 0.8509 - val_loss: 0.5878 - learning_rate: 2.5000e-04\n",
      "Epoch 30/50\n",
      "\u001b[1m110/110\u001b[0m \u001b[32m━━━━━━━━━━━━━━━━━━━━\u001b[0m\u001b[37m\u001b[0m \u001b[1m54s\u001b[0m 488ms/step - F1Score: 0.9873 - accuracy: 0.9873 - loss: 0.0455 - val_F1Score: 0.8512 - val_accuracy: 0.8530 - val_loss: 0.5729 - learning_rate: 2.5000e-04\n",
      "Epoch 31/50\n",
      "\u001b[1m110/110\u001b[0m \u001b[32m━━━━━━━━━━━━━━━━━━━━\u001b[0m\u001b[37m\u001b[0m \u001b[1m54s\u001b[0m 492ms/step - F1Score: 0.9847 - accuracy: 0.9849 - loss: 0.0529 - val_F1Score: 0.8490 - val_accuracy: 0.8496 - val_loss: 0.6296 - learning_rate: 2.5000e-04\n",
      "Epoch 32/50\n",
      "\u001b[1m110/110\u001b[0m \u001b[32m━━━━━━━━━━━━━━━━━━━━\u001b[0m\u001b[37m\u001b[0m \u001b[1m54s\u001b[0m 490ms/step - F1Score: 0.9839 - accuracy: 0.9839 - loss: 0.0455 - val_F1Score: 0.8463 - val_accuracy: 0.8476 - val_loss: 0.6016 - learning_rate: 1.2500e-04\n",
      "Epoch 33/50\n",
      "\u001b[1m110/110\u001b[0m \u001b[32m━━━━━━━━━━━━━━━━━━━━\u001b[0m\u001b[37m\u001b[0m \u001b[1m54s\u001b[0m 491ms/step - F1Score: 0.9910 - accuracy: 0.9910 - loss: 0.0404 - val_F1Score: 0.8524 - val_accuracy: 0.8537 - val_loss: 0.5957 - learning_rate: 1.2500e-04\n",
      "Epoch 34/50\n",
      "\u001b[1m110/110\u001b[0m \u001b[32m━━━━━━━━━━━━━━━━━━━━\u001b[0m\u001b[37m\u001b[0m \u001b[1m54s\u001b[0m 491ms/step - F1Score: 0.9904 - accuracy: 0.9906 - loss: 0.0355 - val_F1Score: 0.8492 - val_accuracy: 0.8503 - val_loss: 0.5955 - learning_rate: 1.2500e-04\n",
      "Epoch 35/50\n",
      "\u001b[1m110/110\u001b[0m \u001b[32m━━━━━━━━━━━━━━━━━━━━\u001b[0m\u001b[37m\u001b[0m \u001b[1m54s\u001b[0m 493ms/step - F1Score: 0.9878 - accuracy: 0.9879 - loss: 0.0407 - val_F1Score: 0.8494 - val_accuracy: 0.8509 - val_loss: 0.5945 - learning_rate: 1.2500e-04\n",
      "Epoch 36/50\n",
      "\u001b[1m110/110\u001b[0m \u001b[32m━━━━━━━━━━━━━━━━━━━━\u001b[0m\u001b[37m\u001b[0m \u001b[1m54s\u001b[0m 488ms/step - F1Score: 0.9926 - accuracy: 0.9926 - loss: 0.0367 - val_F1Score: 0.8505 - val_accuracy: 0.8523 - val_loss: 0.5990 - learning_rate: 1.2500e-04\n",
      "Epoch 37/50\n",
      "\u001b[1m110/110\u001b[0m \u001b[32m━━━━━━━━━━━━━━━━━━━━\u001b[0m\u001b[37m\u001b[0m \u001b[1m54s\u001b[0m 489ms/step - F1Score: 0.9882 - accuracy: 0.9883 - loss: 0.0425 - val_F1Score: 0.8470 - val_accuracy: 0.8482 - val_loss: 0.6127 - learning_rate: 1.2500e-04\n",
      "Epoch 38/50\n",
      "\u001b[1m110/110\u001b[0m \u001b[32m━━━━━━━━━━━━━━━━━━━━\u001b[0m\u001b[37m\u001b[0m \u001b[1m54s\u001b[0m 489ms/step - F1Score: 0.9910 - accuracy: 0.9912 - loss: 0.0321 - val_F1Score: 0.8494 - val_accuracy: 0.8503 - val_loss: 0.6111 - learning_rate: 1.2500e-04\n",
      "Epoch 39/50\n",
      "\u001b[1m110/110\u001b[0m \u001b[32m━━━━━━━━━━━━━━━━━━━━\u001b[0m\u001b[37m\u001b[0m \u001b[1m54s\u001b[0m 491ms/step - F1Score: 0.9919 - accuracy: 0.9922 - loss: 0.0357 - val_F1Score: 0.8499 - val_accuracy: 0.8509 - val_loss: 0.6154 - learning_rate: 1.2500e-04\n",
      "Epoch 40/50\n",
      "\u001b[1m110/110\u001b[0m \u001b[32m━━━━━━━━━━━━━━━━━━━━\u001b[0m\u001b[37m\u001b[0m \u001b[1m54s\u001b[0m 489ms/step - F1Score: 0.9905 - accuracy: 0.9909 - loss: 0.0320 - val_F1Score: 0.8522 - val_accuracy: 0.8537 - val_loss: 0.6112 - learning_rate: 6.2500e-05\n",
      "Epoch 41/50\n",
      "\u001b[1m110/110\u001b[0m \u001b[32m━━━━━━━━━━━━━━━━━━━━\u001b[0m\u001b[37m\u001b[0m \u001b[1m54s\u001b[0m 488ms/step - F1Score: 0.9957 - accuracy: 0.9957 - loss: 0.0263 - val_F1Score: 0.8520 - val_accuracy: 0.8537 - val_loss: 0.6117 - learning_rate: 6.2500e-05\n",
      "Epoch 42/50\n",
      "\u001b[1m110/110\u001b[0m \u001b[32m━━━━━━━━━━━━━━━━━━━━\u001b[0m\u001b[37m\u001b[0m \u001b[1m54s\u001b[0m 490ms/step - F1Score: 0.9922 - accuracy: 0.9923 - loss: 0.0356 - val_F1Score: 0.8515 - val_accuracy: 0.8530 - val_loss: 0.6138 - learning_rate: 6.2500e-05\n",
      "Epoch 43/50\n",
      "\u001b[1m110/110\u001b[0m \u001b[32m━━━━━━━━━━━━━━━━━━━━\u001b[0m\u001b[37m\u001b[0m \u001b[1m54s\u001b[0m 489ms/step - F1Score: 0.9907 - accuracy: 0.9906 - loss: 0.0301 - val_F1Score: 0.8524 - val_accuracy: 0.8537 - val_loss: 0.6152 - learning_rate: 6.2500e-05\n",
      "Epoch 44/50\n",
      "\u001b[1m110/110\u001b[0m \u001b[32m━━━━━━━━━━━━━━━━━━━━\u001b[0m\u001b[37m\u001b[0m \u001b[1m54s\u001b[0m 489ms/step - F1Score: 0.9927 - accuracy: 0.9942 - loss: 0.0263 - val_F1Score: 0.8509 - val_accuracy: 0.8523 - val_loss: 0.6213 - learning_rate: 6.2500e-05\n",
      "Epoch 45/50\n",
      "\u001b[1m110/110\u001b[0m \u001b[32m━━━━━━━━━━━━━━━━━━━━\u001b[0m\u001b[37m\u001b[0m \u001b[1m54s\u001b[0m 491ms/step - F1Score: 0.9929 - accuracy: 0.9929 - loss: 0.0398 - val_F1Score: 0.8515 - val_accuracy: 0.8530 - val_loss: 0.6215 - learning_rate: 6.2500e-05\n",
      "Epoch 46/50\n",
      "\u001b[1m110/110\u001b[0m \u001b[32m━━━━━━━━━━━━━━━━━━━━\u001b[0m\u001b[37m\u001b[0m \u001b[1m54s\u001b[0m 489ms/step - F1Score: 0.9926 - accuracy: 0.9928 - loss: 0.0304 - val_F1Score: 0.8495 - val_accuracy: 0.8509 - val_loss: 0.6232 - learning_rate: 6.2500e-05\n",
      "Epoch 47/50\n",
      "\u001b[1m110/110\u001b[0m \u001b[32m━━━━━━━━━━━━━━━━━━━━\u001b[0m\u001b[37m\u001b[0m \u001b[1m54s\u001b[0m 489ms/step - F1Score: 0.9940 - accuracy: 0.9942 - loss: 0.0242 - val_F1Score: 0.8501 - val_accuracy: 0.8516 - val_loss: 0.6244 - learning_rate: 6.2500e-05\n",
      "Epoch 48/50\n",
      "\u001b[1m110/110\u001b[0m \u001b[32m━━━━━━━━━━━━━━━━━━━━\u001b[0m\u001b[37m\u001b[0m \u001b[1m54s\u001b[0m 494ms/step - F1Score: 0.9918 - accuracy: 0.9919 - loss: 0.0326 - val_F1Score: 0.8493 - val_accuracy: 0.8509 - val_loss: 0.6246 - learning_rate: 3.1250e-05\n",
      "Epoch 49/50\n",
      "\u001b[1m110/110\u001b[0m \u001b[32m━━━━━━━━━━━━━━━━━━━━\u001b[0m\u001b[37m\u001b[0m \u001b[1m54s\u001b[0m 490ms/step - F1Score: 0.9935 - accuracy: 0.9935 - loss: 0.0270 - val_F1Score: 0.8474 - val_accuracy: 0.8489 - val_loss: 0.6260 - learning_rate: 3.1250e-05\n",
      "Epoch 50/50\n",
      "\u001b[1m110/110\u001b[0m \u001b[32m━━━━━━━━━━━━━━━━━━━━\u001b[0m\u001b[37m\u001b[0m \u001b[1m54s\u001b[0m 490ms/step - F1Score: 0.9949 - accuracy: 0.9949 - loss: 0.0260 - val_F1Score: 0.8480 - val_accuracy: 0.8496 - val_loss: 0.6286 - learning_rate: 3.1250e-05\n"
     ]
    }
   ],
   "source": [
    "model.compile(optimizer=Adam(learning_rate = 0.001, clipnorm= 1.0),\n",
    "                     loss='categorical_crossentropy', \n",
    "                     metrics=['accuracy', 'F1Score'])\n",
    "\n",
    "early_stopping = EarlyStopping(monitor='val_loss', patience=15,restore_best_weights=True, start_from_epoch=20)\n",
    "reduce_lr = ReduceLROnPlateau(monitor='val_loss', factor=0.5, patience=8, min_lr=1e-6)\n",
    "\n",
    "history =  model.fit(X_train, y_train, validation_data=(X_val, y_val), epochs=50, verbose=1, \n",
    "                            callbacks= [early_stopping, reduce_lr])"
   ]
  },
  {
   "cell_type": "code",
   "execution_count": 10,
   "metadata": {},
   "outputs": [],
   "source": [
    "path = '/Users/pimpijnenburg/Desktop/Thesis/USTC_SmokeRS_dataset/code/transfer_learning/trained_models'\n",
    "model_save_path = os.path.join(path, 'resnet101v2.keras')\n",
    "model.save(model_save_path) "
   ]
  }
 ],
 "metadata": {
  "kernelspec": {
   "display_name": "Python 3",
   "language": "python",
   "name": "python3"
  },
  "language_info": {
   "codemirror_mode": {
    "name": "ipython",
    "version": 3
   },
   "file_extension": ".py",
   "mimetype": "text/x-python",
   "name": "python",
   "nbconvert_exporter": "python",
   "pygments_lexer": "ipython3",
   "version": "3.11.9"
  }
 },
 "nbformat": 4,
 "nbformat_minor": 2
}
