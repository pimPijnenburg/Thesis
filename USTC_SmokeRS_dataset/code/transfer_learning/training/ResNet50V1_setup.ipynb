{
 "cells": [
  {
   "cell_type": "code",
   "execution_count": 1,
   "metadata": {},
   "outputs": [],
   "source": [
    "from tl_tools import *\n",
    "from tensorflow.keras.preprocessing.image import ImageDataGenerator\n",
    "from tensorflow.keras.optimizers import Adam\n",
    "from tensorflow.keras.callbacks import EarlyStopping, ReduceLROnPlateau\n",
    "import pandas as pd\n",
    "from tensorflow.keras.applications import ResNet50"
   ]
  },
  {
   "cell_type": "code",
   "execution_count": 2,
   "metadata": {},
   "outputs": [
    {
     "name": "stdout",
     "output_type": "stream",
     "text": [
      "Mixed precision policy set to: mixed_float16\n",
      "\n",
      "Found 4980 images belonging to 6 classes.\n",
      "Number of batches in the training data: 312\n",
      "Batch size of a single batch 16\n",
      "Number of samples in the training dataset 4980\n",
      "\n",
      "Number of training data batches with val split of 0.3: 219\n",
      "Number of validation data batches: 93\n",
      "\n"
     ]
    },
    {
     "name": "stderr",
     "output_type": "stream",
     "text": [
      "2024-11-14 17:04:24.334433: I metal_plugin/src/device/metal_device.cc:1154] Metal device set to: Apple M3 Pro\n",
      "2024-11-14 17:04:24.334459: I metal_plugin/src/device/metal_device.cc:296] systemMemory: 18.00 GB\n",
      "2024-11-14 17:04:24.334465: I metal_plugin/src/device/metal_device.cc:313] maxCacheSize: 6.00 GB\n",
      "2024-11-14 17:04:24.334479: I tensorflow/core/common_runtime/pluggable_device/pluggable_device_factory.cc:305] Could not identify NUMA node of platform GPU ID 0, defaulting to 0. Your kernel may not have been built with NUMA support.\n",
      "2024-11-14 17:04:24.334488: I tensorflow/core/common_runtime/pluggable_device/pluggable_device_factory.cc:271] Created TensorFlow device (/job:localhost/replica:0/task:0/device:GPU:0 with 0 MB memory) -> physical PluggableDevice (device: 0, name: METAL, pci bus id: <undefined>)\n"
     ]
    },
    {
     "name": "stdout",
     "output_type": "stream",
     "text": [
      "Shape of image training set: (3504, 256, 256, 3)\n",
      "Shape of image validation set: (1476, 256, 256, 3)\n",
      "\n",
      "Shape of label training set: (3504, 6)\n",
      "Shape of label validation set: (1476, 6)\n"
     ]
    }
   ],
   "source": [
    "setup_mixed_precision()\n",
    "train_dir = '/Users/pimpijnenburg/Desktop/Thesis/USTC_SmokeRS_dataset/data/USTC_SmokeRS/processed/train'\n",
    "\n",
    "train_datagen = ImageDataGenerator(rescale=1./255, horizontal_flip=True ,vertical_flip=True)\n",
    "train =train_datagen.flow_from_directory(train_dir, color_mode= 'rgb', batch_size = 16, shuffle= True, seed = 1, target_size=(256, 256))\n",
    "\n",
    "\n",
    "X_train, y_train, X_val, y_val = train_val_split(train, val_split= 0.3)"
   ]
  },
  {
   "cell_type": "code",
   "execution_count": 3,
   "metadata": {},
   "outputs": [],
   "source": [
    "pooling = 'avg'\n",
    "resnet50 = ResNet50(weights= None ,include_top= False, input_shape= (256, 256, 3), pooling = pooling)\n",
    "\n",
    "model = fc_layers(resnet50, name = 'resnet50v1')"
   ]
  },
  {
   "cell_type": "code",
   "execution_count": 4,
   "metadata": {},
   "outputs": [],
   "source": [
    "model.compile(optimizer=Adam(learning_rate = 0.001, clipnorm= 1.0),\n",
    "                     loss='categorical_crossentropy', \n",
    "                     metrics=['accuracy', 'F1Score'])\n",
    "\n",
    "early_stopping = EarlyStopping(monitor='val_loss', patience=15,restore_best_weights=True, start_from_epoch=50)\n",
    "reduce_lr = ReduceLROnPlateau(monitor='val_loss', factor=0.5, patience=10, min_lr=1e-6)"
   ]
  },
  {
   "cell_type": "code",
   "execution_count": 5,
   "metadata": {},
   "outputs": [],
   "source": [
    "save_freq = (5 * 110) \n",
    "\n",
    "from tensorflow.keras.callbacks import ModelCheckpoint\n",
    "\n",
    "checkpoint_dir = '/Users/pimpijnenburg/Desktop/Thesis/USTC_SmokeRS_dataset/code/transfer_learning/training/checkpoints'\n",
    "os.makedirs(checkpoint_dir, exist_ok=True)\n",
    "\n",
    "checkpoint_callback = ModelCheckpoint(\n",
    "    filepath=os.path.join(checkpoint_dir, 'model_epoch_{epoch:03d}.keras'),\n",
    "    save_weights_only=False, \n",
    "    save_best_only=False,     \n",
    "    save_freq= save_freq, #saves after every 10 * 110 batches per epoch (10 epochs), experienced memory issues\n",
    "    verbose=1\n",
    ")\n",
    "\n",
    "\n",
    "#history =  model.fit(X_train, y_train, validation_data=(X_val, y_val), epochs=100, verbose=1, \n",
    "#                          callbacks= [early_stopping, reduce_lr, checkpoint_callback])"
   ]
  },
  {
   "cell_type": "code",
   "execution_count": 6,
   "metadata": {},
   "outputs": [
    {
     "name": "stdout",
     "output_type": "stream",
     "text": [
      "Current learning rate: 0.0001250000059371814\n",
      "Epoch 86/120\n"
     ]
    },
    {
     "name": "stderr",
     "output_type": "stream",
     "text": [
      "2024-11-14 17:04:35.056889: I tensorflow/core/grappler/optimizers/custom_graph_optimizer_registry.cc:117] Plugin optimizer for device_type GPU is enabled.\n"
     ]
    },
    {
     "name": "stdout",
     "output_type": "stream",
     "text": [
      "\u001b[1m110/110\u001b[0m \u001b[32m━━━━━━━━━━━━━━━━━━━━\u001b[0m\u001b[37m\u001b[0m \u001b[1m186s\u001b[0m 1s/step - F1Score: 0.9947 - accuracy: 0.9948 - loss: 0.0294 - val_F1Score: 0.8331 - val_accuracy: 0.8354 - val_loss: 0.6392 - learning_rate: 1.2500e-04\n",
      "Epoch 87/120\n",
      "\u001b[1m110/110\u001b[0m \u001b[32m━━━━━━━━━━━━━━━━━━━━\u001b[0m\u001b[37m\u001b[0m \u001b[1m149s\u001b[0m 1s/step - F1Score: 0.9915 - accuracy: 0.9916 - loss: 0.0304 - val_F1Score: 0.8224 - val_accuracy: 0.8232 - val_loss: 0.7696 - learning_rate: 1.2500e-04\n",
      "Epoch 88/120\n",
      "\u001b[1m110/110\u001b[0m \u001b[32m━━━━━━━━━━━━━━━━━━━━\u001b[0m\u001b[37m\u001b[0m \u001b[1m148s\u001b[0m 1s/step - F1Score: 0.9912 - accuracy: 0.9913 - loss: 0.0346 - val_F1Score: 0.8243 - val_accuracy: 0.8279 - val_loss: 0.7358 - learning_rate: 1.2500e-04\n",
      "Epoch 89/120\n",
      "\u001b[1m110/110\u001b[0m \u001b[32m━━━━━━━━━━━━━━━━━━━━\u001b[0m\u001b[37m\u001b[0m \u001b[1m148s\u001b[0m 1s/step - F1Score: 0.9929 - accuracy: 0.9929 - loss: 0.0336 - val_F1Score: 0.8467 - val_accuracy: 0.8503 - val_loss: 0.6458 - learning_rate: 1.2500e-04\n",
      "Epoch 90/120\n",
      "\u001b[1m109/110\u001b[0m \u001b[32m━━━━━━━━━━━━━━━━━━━\u001b[0m\u001b[37m━\u001b[0m \u001b[1m1s\u001b[0m 1s/step - F1Score: 0.9893 - accuracy: 0.9895 - loss: 0.0383\n",
      "Epoch 90: saving model to /Users/pimpijnenburg/Desktop/Thesis/USTC_SmokeRS_dataset/code/transfer_learning/training/checkpoints/model_epoch_090.keras\n",
      "\u001b[1m110/110\u001b[0m \u001b[32m━━━━━━━━━━━━━━━━━━━━\u001b[0m\u001b[37m\u001b[0m \u001b[1m150s\u001b[0m 1s/step - F1Score: 0.9893 - accuracy: 0.9895 - loss: 0.0383 - val_F1Score: 0.8439 - val_accuracy: 0.8455 - val_loss: 0.6558 - learning_rate: 1.2500e-04\n",
      "Epoch 91/120\n",
      "\u001b[1m110/110\u001b[0m \u001b[32m━━━━━━━━━━━━━━━━━━━━\u001b[0m\u001b[37m\u001b[0m \u001b[1m150s\u001b[0m 1s/step - F1Score: 0.9925 - accuracy: 0.9926 - loss: 0.0307 - val_F1Score: 0.8245 - val_accuracy: 0.8266 - val_loss: 0.7187 - learning_rate: 1.2500e-04\n",
      "Epoch 92/120\n",
      "\u001b[1m110/110\u001b[0m \u001b[32m━━━━━━━━━━━━━━━━━━━━\u001b[0m\u001b[37m\u001b[0m \u001b[1m149s\u001b[0m 1s/step - F1Score: 0.9931 - accuracy: 0.9931 - loss: 0.0277 - val_F1Score: 0.8332 - val_accuracy: 0.8354 - val_loss: 0.6813 - learning_rate: 1.2500e-04\n",
      "Epoch 93/120\n",
      "\u001b[1m110/110\u001b[0m \u001b[32m━━━━━━━━━━━━━━━━━━━━\u001b[0m\u001b[37m\u001b[0m \u001b[1m151s\u001b[0m 1s/step - F1Score: 0.9924 - accuracy: 0.9925 - loss: 0.0316 - val_F1Score: 0.8198 - val_accuracy: 0.8191 - val_loss: 0.7997 - learning_rate: 1.2500e-04\n",
      "Epoch 94/120\n",
      "\u001b[1m110/110\u001b[0m \u001b[32m━━━━━━━━━━━━━━━━━━━━\u001b[0m\u001b[37m\u001b[0m \u001b[1m150s\u001b[0m 1s/step - F1Score: 0.9940 - accuracy: 0.9940 - loss: 0.0223 - val_F1Score: 0.8362 - val_accuracy: 0.8388 - val_loss: 0.6813 - learning_rate: 1.2500e-04\n",
      "Epoch 95/120\n",
      "\u001b[1m109/110\u001b[0m \u001b[32m━━━━━━━━━━━━━━━━━━━\u001b[0m\u001b[37m━\u001b[0m \u001b[1m1s\u001b[0m 1s/step - F1Score: 0.9868 - accuracy: 0.9876 - loss: 0.0415\n",
      "Epoch 95: saving model to /Users/pimpijnenburg/Desktop/Thesis/USTC_SmokeRS_dataset/code/transfer_learning/training/checkpoints/model_epoch_095.keras\n",
      "\u001b[1m110/110\u001b[0m \u001b[32m━━━━━━━━━━━━━━━━━━━━\u001b[0m\u001b[37m\u001b[0m \u001b[1m150s\u001b[0m 1s/step - F1Score: 0.9869 - accuracy: 0.9876 - loss: 0.0412 - val_F1Score: 0.8273 - val_accuracy: 0.8327 - val_loss: 0.7445 - learning_rate: 1.2500e-04\n",
      "Epoch 96/120\n",
      "\u001b[1m110/110\u001b[0m \u001b[32m━━━━━━━━━━━━━━━━━━━━\u001b[0m\u001b[37m\u001b[0m \u001b[1m150s\u001b[0m 1s/step - F1Score: 0.9908 - accuracy: 0.9911 - loss: 0.0277 - val_F1Score: 0.8315 - val_accuracy: 0.8360 - val_loss: 0.6994 - learning_rate: 1.2500e-04\n",
      "Epoch 97/120\n",
      "\u001b[1m110/110\u001b[0m \u001b[32m━━━━━━━━━━━━━━━━━━━━\u001b[0m\u001b[37m\u001b[0m \u001b[1m150s\u001b[0m 1s/step - F1Score: 0.9922 - accuracy: 0.9923 - loss: 0.0292 - val_F1Score: 0.8357 - val_accuracy: 0.8381 - val_loss: 0.7090 - learning_rate: 6.2500e-05\n",
      "Epoch 98/120\n",
      "\u001b[1m110/110\u001b[0m \u001b[32m━━━━━━━━━━━━━━━━━━━━\u001b[0m\u001b[37m\u001b[0m \u001b[1m150s\u001b[0m 1s/step - F1Score: 0.9944 - accuracy: 0.9939 - loss: 0.0284 - val_F1Score: 0.8284 - val_accuracy: 0.8313 - val_loss: 0.7003 - learning_rate: 6.2500e-05\n",
      "Epoch 99/120\n",
      "\u001b[1m110/110\u001b[0m \u001b[32m━━━━━━━━━━━━━━━━━━━━\u001b[0m\u001b[37m\u001b[0m \u001b[1m150s\u001b[0m 1s/step - F1Score: 0.9959 - accuracy: 0.9960 - loss: 0.0224 - val_F1Score: 0.8419 - val_accuracy: 0.8442 - val_loss: 0.6558 - learning_rate: 6.2500e-05\n",
      "Epoch 100/120\n",
      "\u001b[1m109/110\u001b[0m \u001b[32m━━━━━━━━━━━━━━━━━━━\u001b[0m\u001b[37m━\u001b[0m \u001b[1m1s\u001b[0m 1s/step - F1Score: 0.9950 - accuracy: 0.9949 - loss: 0.0186\n",
      "Epoch 100: saving model to /Users/pimpijnenburg/Desktop/Thesis/USTC_SmokeRS_dataset/code/transfer_learning/training/checkpoints/model_epoch_100.keras\n",
      "\u001b[1m110/110\u001b[0m \u001b[32m━━━━━━━━━━━━━━━━━━━━\u001b[0m\u001b[37m\u001b[0m \u001b[1m150s\u001b[0m 1s/step - F1Score: 0.9950 - accuracy: 0.9949 - loss: 0.0187 - val_F1Score: 0.8391 - val_accuracy: 0.8408 - val_loss: 0.6745 - learning_rate: 6.2500e-05\n",
      "Epoch 101/120\n",
      "\u001b[1m110/110\u001b[0m \u001b[32m━━━━━━━━━━━━━━━━━━━━\u001b[0m\u001b[37m\u001b[0m \u001b[1m150s\u001b[0m 1s/step - F1Score: 0.9936 - accuracy: 0.9939 - loss: 0.0258 - val_F1Score: 0.8409 - val_accuracy: 0.8435 - val_loss: 0.6530 - learning_rate: 6.2500e-05\n"
     ]
    }
   ],
   "source": [
    "latest_checkpoint = '/Users/pimpijnenburg/Desktop/Thesis/USTC_SmokeRS_dataset/code/transfer_learning/training/checkpoints/model_epoch_085.keras'\n",
    "model = tf.keras.models.load_model(latest_checkpoint)\n",
    "lr = float(tf.keras.backend.get_value(model.optimizer.learning_rate))\n",
    "print(f'Current learning rate: {lr}')\n",
    "\n",
    "model.compile(\n",
    "    optimizer = Adam(learning_rate= lr),\n",
    "    loss = 'categorical_crossentropy', \n",
    "    metrics = ['accuracy','F1Score']\n",
    ")\n",
    "\n",
    "history = model.fit(X_train, y_train, validation_data= (X_val, y_val), epochs = 120, initial_epoch= 85, \n",
    "                               callbacks = [checkpoint_callback, reduce_lr, early_stopping])"
   ]
  },
  {
   "cell_type": "code",
   "execution_count": 7,
   "metadata": {},
   "outputs": [],
   "source": [
    "path = '/Users/pimpijnenburg/Desktop/Thesis/USTC_SmokeRS_dataset/code/transfer_learning/trained_models'\n",
    "model_save_path = os.path.join(path, 'resnet_50v1.keras')\n",
    "model.save(model_save_path) "
   ]
  }
 ],
 "metadata": {
  "kernelspec": {
   "display_name": "Python 3",
   "language": "python",
   "name": "python3"
  },
  "language_info": {
   "codemirror_mode": {
    "name": "ipython",
    "version": 3
   },
   "file_extension": ".py",
   "mimetype": "text/x-python",
   "name": "python",
   "nbconvert_exporter": "python",
   "pygments_lexer": "ipython3",
   "version": "3.11.9"
  }
 },
 "nbformat": 4,
 "nbformat_minor": 2
}
