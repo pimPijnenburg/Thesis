{
 "cells": [
  {
   "cell_type": "code",
   "execution_count": 3,
   "metadata": {},
   "outputs": [],
   "source": [
    "from tl_tools import *\n",
    "from tensorflow.keras.preprocessing.image import ImageDataGenerator\n",
    "from tensorflow.keras.optimizers import Adam\n",
    "from tensorflow.keras.callbacks import EarlyStopping, ReduceLROnPlateau\n",
    "import pandas as pd\n",
    "from tensorflow.keras.applications import ResNet50V2"
   ]
  },
  {
   "cell_type": "code",
   "execution_count": 4,
   "metadata": {},
   "outputs": [
    {
     "name": "stdout",
     "output_type": "stream",
     "text": [
      "Mixed precision policy set to: mixed_float16\n",
      "\n",
      "Found 4980 images belonging to 6 classes.\n",
      "Number of batches in the training data: 312\n",
      "Batch size of a single batch 16\n",
      "Number of samples in the training dataset 4980\n",
      "\n",
      "Number of training data batches with val split of 0.3: 219\n",
      "Number of validation data batches: 93\n",
      "\n"
     ]
    },
    {
     "name": "stderr",
     "output_type": "stream",
     "text": [
      "2024-11-11 18:19:28.834176: I metal_plugin/src/device/metal_device.cc:1154] Metal device set to: Apple M3 Pro\n",
      "2024-11-11 18:19:28.834201: I metal_plugin/src/device/metal_device.cc:296] systemMemory: 18.00 GB\n",
      "2024-11-11 18:19:28.834210: I metal_plugin/src/device/metal_device.cc:313] maxCacheSize: 6.00 GB\n",
      "2024-11-11 18:19:28.834225: I tensorflow/core/common_runtime/pluggable_device/pluggable_device_factory.cc:305] Could not identify NUMA node of platform GPU ID 0, defaulting to 0. Your kernel may not have been built with NUMA support.\n",
      "2024-11-11 18:19:28.834234: I tensorflow/core/common_runtime/pluggable_device/pluggable_device_factory.cc:271] Created TensorFlow device (/job:localhost/replica:0/task:0/device:GPU:0 with 0 MB memory) -> physical PluggableDevice (device: 0, name: METAL, pci bus id: <undefined>)\n"
     ]
    },
    {
     "name": "stdout",
     "output_type": "stream",
     "text": [
      "Shape of image training set: (3504, 256, 256, 3)\n",
      "Shape of image validation set: (1476, 256, 256, 3)\n",
      "\n",
      "Shape of label training set: (3504, 6)\n",
      "Shape of label validation set: (1476, 6)\n"
     ]
    }
   ],
   "source": [
    "setup_mixed_precision()\n",
    "train_dir = '/Users/pimpijnenburg/Desktop/Thesis/USTC_SmokeRS_dataset/data/USTC_SmokeRS/processed/train'\n",
    "\n",
    "train_datagen = ImageDataGenerator(rescale=1./255, horizontal_flip=True ,vertical_flip=True)\n",
    "train =train_datagen.flow_from_directory(train_dir, color_mode= 'rgb', batch_size = 16, shuffle= True, seed = 1, target_size=(256, 256))\n",
    "\n",
    "\n",
    "X_train, y_train, X_val, y_val = train_val_split(train, val_split= 0.3)"
   ]
  },
  {
   "cell_type": "code",
   "execution_count": 5,
   "metadata": {},
   "outputs": [
    {
     "name": "stdout",
     "output_type": "stream",
     "text": [
      "Found 1245 images belonging to 6 classes.\n",
      "Number of batches in the test data: 78\n",
      "Batch size of a single batch 16\n",
      "Number of samples in the test dataset 1245\n",
      "\n",
      "Shape of image test set: (1245, 256, 256, 3)\n",
      "\n",
      "Shape of label test set: (1245, 6)\n"
     ]
    }
   ],
   "source": [
    "test_dir = '/Users/pimpijnenburg/Desktop/Thesis/USTC_SmokeRS_dataset/data/USTC_SmokeRS/processed/test'\n",
    "test_datagen = ImageDataGenerator(rescale=1./255)\n",
    "test = test_datagen.flow_from_directory(test_dir, color_mode= 'rgb', batch_size = 16, shuffle= True, seed = 1, target_size=(256, 256))\n",
    "X_test, y_test = test_splits(test)"
   ]
  },
  {
   "cell_type": "code",
   "execution_count": 6,
   "metadata": {},
   "outputs": [],
   "source": [
    "pooling = 'avg'\n",
    "resnet50v2 = ResNet50V2(weights= 'imagenet',include_top= False, input_shape= (256, 256, 3), pooling = pooling)\n",
    "resnet50v2.trainable = False\n",
    "\n",
    "model = fc_layers(resnet50v2, name = 'resnet50v2')"
   ]
  },
  {
   "cell_type": "code",
   "execution_count": 7,
   "metadata": {},
   "outputs": [
    {
     "name": "stdout",
     "output_type": "stream",
     "text": [
      "Epoch 1/50\n"
     ]
    },
    {
     "name": "stderr",
     "output_type": "stream",
     "text": [
      "2024-11-11 18:19:35.526311: I tensorflow/core/grappler/optimizers/custom_graph_optimizer_registry.cc:117] Plugin optimizer for device_type GPU is enabled.\n"
     ]
    },
    {
     "name": "stdout",
     "output_type": "stream",
     "text": [
      "\u001b[1m110/110\u001b[0m \u001b[32m━━━━━━━━━━━━━━━━━━━━\u001b[0m\u001b[37m\u001b[0m \u001b[1m36s\u001b[0m 274ms/step - F1Score: 0.4176 - accuracy: 0.4203 - loss: 1.6073 - val_F1Score: 0.7294 - val_accuracy: 0.7337 - val_loss: 0.7718 - learning_rate: 0.0010\n",
      "Epoch 2/50\n",
      "\u001b[1m110/110\u001b[0m \u001b[32m━━━━━━━━━━━━━━━━━━━━\u001b[0m\u001b[37m\u001b[0m \u001b[1m27s\u001b[0m 242ms/step - F1Score: 0.7032 - accuracy: 0.7095 - loss: 0.8210 - val_F1Score: 0.7891 - val_accuracy: 0.7927 - val_loss: 0.5934 - learning_rate: 0.0010\n",
      "Epoch 3/50\n",
      "\u001b[1m110/110\u001b[0m \u001b[32m━━━━━━━━━━━━━━━━━━━━\u001b[0m\u001b[37m\u001b[0m \u001b[1m27s\u001b[0m 241ms/step - F1Score: 0.7908 - accuracy: 0.7967 - loss: 0.6097 - val_F1Score: 0.8135 - val_accuracy: 0.8150 - val_loss: 0.5387 - learning_rate: 0.0010\n",
      "Epoch 4/50\n",
      "\u001b[1m110/110\u001b[0m \u001b[32m━━━━━━━━━━━━━━━━━━━━\u001b[0m\u001b[37m\u001b[0m \u001b[1m26s\u001b[0m 241ms/step - F1Score: 0.8217 - accuracy: 0.8248 - loss: 0.5332 - val_F1Score: 0.8233 - val_accuracy: 0.8245 - val_loss: 0.4947 - learning_rate: 0.0010\n",
      "Epoch 5/50\n",
      "\u001b[1m110/110\u001b[0m \u001b[32m━━━━━━━━━━━━━━━━━━━━\u001b[0m\u001b[37m\u001b[0m \u001b[1m26s\u001b[0m 241ms/step - F1Score: 0.8629 - accuracy: 0.8652 - loss: 0.4153 - val_F1Score: 0.8065 - val_accuracy: 0.8103 - val_loss: 0.5306 - learning_rate: 0.0010\n",
      "Epoch 6/50\n",
      "\u001b[1m110/110\u001b[0m \u001b[32m━━━━━━━━━━━━━━━━━━━━\u001b[0m\u001b[37m\u001b[0m \u001b[1m26s\u001b[0m 240ms/step - F1Score: 0.8672 - accuracy: 0.8690 - loss: 0.3848 - val_F1Score: 0.8288 - val_accuracy: 0.8340 - val_loss: 0.4894 - learning_rate: 0.0010\n",
      "Epoch 7/50\n",
      "\u001b[1m110/110\u001b[0m \u001b[32m━━━━━━━━━━━━━━━━━━━━\u001b[0m\u001b[37m\u001b[0m \u001b[1m27s\u001b[0m 241ms/step - F1Score: 0.8726 - accuracy: 0.8736 - loss: 0.3631 - val_F1Score: 0.8144 - val_accuracy: 0.8164 - val_loss: 0.4990 - learning_rate: 0.0010\n",
      "Epoch 8/50\n",
      "\u001b[1m110/110\u001b[0m \u001b[32m━━━━━━━━━━━━━━━━━━━━\u001b[0m\u001b[37m\u001b[0m \u001b[1m27s\u001b[0m 241ms/step - F1Score: 0.8857 - accuracy: 0.8872 - loss: 0.3395 - val_F1Score: 0.8271 - val_accuracy: 0.8333 - val_loss: 0.5223 - learning_rate: 0.0010\n",
      "Epoch 9/50\n",
      "\u001b[1m110/110\u001b[0m \u001b[32m━━━━━━━━━━━━━━━━━━━━\u001b[0m\u001b[37m\u001b[0m \u001b[1m26s\u001b[0m 241ms/step - F1Score: 0.9060 - accuracy: 0.9070 - loss: 0.2743 - val_F1Score: 0.8349 - val_accuracy: 0.8367 - val_loss: 0.4919 - learning_rate: 0.0010\n",
      "Epoch 10/50\n",
      "\u001b[1m110/110\u001b[0m \u001b[32m━━━━━━━━━━━━━━━━━━━━\u001b[0m\u001b[37m\u001b[0m \u001b[1m27s\u001b[0m 241ms/step - F1Score: 0.9030 - accuracy: 0.9044 - loss: 0.2553 - val_F1Score: 0.8364 - val_accuracy: 0.8401 - val_loss: 0.4703 - learning_rate: 0.0010\n",
      "Epoch 11/50\n",
      "\u001b[1m110/110\u001b[0m \u001b[32m━━━━━━━━━━━━━━━━━━━━\u001b[0m\u001b[37m\u001b[0m \u001b[1m27s\u001b[0m 242ms/step - F1Score: 0.9267 - accuracy: 0.9280 - loss: 0.2172 - val_F1Score: 0.8063 - val_accuracy: 0.8049 - val_loss: 0.5509 - learning_rate: 0.0010\n",
      "Epoch 12/50\n",
      "\u001b[1m110/110\u001b[0m \u001b[32m━━━━━━━━━━━━━━━━━━━━\u001b[0m\u001b[37m\u001b[0m \u001b[1m27s\u001b[0m 242ms/step - F1Score: 0.9246 - accuracy: 0.9255 - loss: 0.2306 - val_F1Score: 0.8338 - val_accuracy: 0.8347 - val_loss: 0.4927 - learning_rate: 0.0010\n",
      "Epoch 13/50\n",
      "\u001b[1m110/110\u001b[0m \u001b[32m━━━━━━━━━━━━━━━━━━━━\u001b[0m\u001b[37m\u001b[0m \u001b[1m27s\u001b[0m 244ms/step - F1Score: 0.9342 - accuracy: 0.9365 - loss: 0.1825 - val_F1Score: 0.8229 - val_accuracy: 0.8286 - val_loss: 0.5483 - learning_rate: 0.0010\n",
      "Epoch 14/50\n",
      "\u001b[1m110/110\u001b[0m \u001b[32m━━━━━━━━━━━━━━━━━━━━\u001b[0m\u001b[37m\u001b[0m \u001b[1m27s\u001b[0m 243ms/step - F1Score: 0.9399 - accuracy: 0.9403 - loss: 0.1812 - val_F1Score: 0.8193 - val_accuracy: 0.8211 - val_loss: 0.6024 - learning_rate: 0.0010\n",
      "Epoch 15/50\n",
      "\u001b[1m110/110\u001b[0m \u001b[32m━━━━━━━━━━━━━━━━━━━━\u001b[0m\u001b[37m\u001b[0m \u001b[1m27s\u001b[0m 247ms/step - F1Score: 0.9420 - accuracy: 0.9431 - loss: 0.1895 - val_F1Score: 0.8379 - val_accuracy: 0.8408 - val_loss: 0.4878 - learning_rate: 0.0010\n",
      "Epoch 16/50\n",
      "\u001b[1m110/110\u001b[0m \u001b[32m━━━━━━━━━━━━━━━━━━━━\u001b[0m\u001b[37m\u001b[0m \u001b[1m27s\u001b[0m 244ms/step - F1Score: 0.9388 - accuracy: 0.9395 - loss: 0.1717 - val_F1Score: 0.8334 - val_accuracy: 0.8340 - val_loss: 0.5385 - learning_rate: 0.0010\n",
      "Epoch 17/50\n",
      "\u001b[1m110/110\u001b[0m \u001b[32m━━━━━━━━━━━━━━━━━━━━\u001b[0m\u001b[37m\u001b[0m \u001b[1m27s\u001b[0m 244ms/step - F1Score: 0.9534 - accuracy: 0.9544 - loss: 0.1507 - val_F1Score: 0.8229 - val_accuracy: 0.8272 - val_loss: 0.5792 - learning_rate: 0.0010\n",
      "Epoch 18/50\n",
      "\u001b[1m110/110\u001b[0m \u001b[32m━━━━━━━━━━━━━━━━━━━━\u001b[0m\u001b[37m\u001b[0m \u001b[1m27s\u001b[0m 245ms/step - F1Score: 0.9534 - accuracy: 0.9540 - loss: 0.1332 - val_F1Score: 0.8223 - val_accuracy: 0.8238 - val_loss: 0.6057 - learning_rate: 0.0010\n",
      "Epoch 19/50\n",
      "\u001b[1m110/110\u001b[0m \u001b[32m━━━━━━━━━━━━━━━━━━━━\u001b[0m\u001b[37m\u001b[0m \u001b[1m27s\u001b[0m 245ms/step - F1Score: 0.9597 - accuracy: 0.9605 - loss: 0.1207 - val_F1Score: 0.8343 - val_accuracy: 0.8360 - val_loss: 0.5393 - learning_rate: 5.0000e-04\n",
      "Epoch 20/50\n",
      "\u001b[1m110/110\u001b[0m \u001b[32m━━━━━━━━━━━━━━━━━━━━\u001b[0m\u001b[37m\u001b[0m \u001b[1m27s\u001b[0m 247ms/step - F1Score: 0.9652 - accuracy: 0.9666 - loss: 0.1053 - val_F1Score: 0.8372 - val_accuracy: 0.8401 - val_loss: 0.5564 - learning_rate: 5.0000e-04\n",
      "Epoch 21/50\n",
      "\u001b[1m110/110\u001b[0m \u001b[32m━━━━━━━━━━━━━━━━━━━━\u001b[0m\u001b[37m\u001b[0m \u001b[1m27s\u001b[0m 247ms/step - F1Score: 0.9759 - accuracy: 0.9762 - loss: 0.0809 - val_F1Score: 0.8308 - val_accuracy: 0.8320 - val_loss: 0.5867 - learning_rate: 5.0000e-04\n",
      "Epoch 22/50\n",
      "\u001b[1m110/110\u001b[0m \u001b[32m━━━━━━━━━━━━━━━━━━━━\u001b[0m\u001b[37m\u001b[0m \u001b[1m27s\u001b[0m 248ms/step - F1Score: 0.9679 - accuracy: 0.9701 - loss: 0.0932 - val_F1Score: 0.8259 - val_accuracy: 0.8259 - val_loss: 0.5698 - learning_rate: 5.0000e-04\n",
      "Epoch 23/50\n",
      "\u001b[1m110/110\u001b[0m \u001b[32m━━━━━━━━━━━━━━━━━━━━\u001b[0m\u001b[37m\u001b[0m \u001b[1m27s\u001b[0m 247ms/step - F1Score: 0.9715 - accuracy: 0.9719 - loss: 0.0866 - val_F1Score: 0.8328 - val_accuracy: 0.8333 - val_loss: 0.5768 - learning_rate: 5.0000e-04\n",
      "Epoch 24/50\n",
      "\u001b[1m110/110\u001b[0m \u001b[32m━━━━━━━━━━━━━━━━━━━━\u001b[0m\u001b[37m\u001b[0m \u001b[1m27s\u001b[0m 247ms/step - F1Score: 0.9761 - accuracy: 0.9765 - loss: 0.0816 - val_F1Score: 0.8308 - val_accuracy: 0.8333 - val_loss: 0.5782 - learning_rate: 5.0000e-04\n",
      "Epoch 25/50\n",
      "\u001b[1m110/110\u001b[0m \u001b[32m━━━━━━━━━━━━━━━━━━━━\u001b[0m\u001b[37m\u001b[0m \u001b[1m27s\u001b[0m 247ms/step - F1Score: 0.9806 - accuracy: 0.9807 - loss: 0.0731 - val_F1Score: 0.8324 - val_accuracy: 0.8340 - val_loss: 0.6260 - learning_rate: 5.0000e-04\n",
      "Epoch 26/50\n",
      "\u001b[1m110/110\u001b[0m \u001b[32m━━━━━━━━━━━━━━━━━━━━\u001b[0m\u001b[37m\u001b[0m \u001b[1m27s\u001b[0m 244ms/step - F1Score: 0.9813 - accuracy: 0.9816 - loss: 0.0638 - val_F1Score: 0.8262 - val_accuracy: 0.8272 - val_loss: 0.6121 - learning_rate: 5.0000e-04\n",
      "Epoch 27/50\n",
      "\u001b[1m110/110\u001b[0m \u001b[32m━━━━━━━━━━━━━━━━━━━━\u001b[0m\u001b[37m\u001b[0m \u001b[1m27s\u001b[0m 245ms/step - F1Score: 0.9855 - accuracy: 0.9861 - loss: 0.0451 - val_F1Score: 0.8299 - val_accuracy: 0.8313 - val_loss: 0.5867 - learning_rate: 2.5000e-04\n",
      "Epoch 28/50\n",
      "\u001b[1m110/110\u001b[0m \u001b[32m━━━━━━━━━━━━━━━━━━━━\u001b[0m\u001b[37m\u001b[0m \u001b[1m27s\u001b[0m 242ms/step - F1Score: 0.9834 - accuracy: 0.9839 - loss: 0.0583 - val_F1Score: 0.8297 - val_accuracy: 0.8306 - val_loss: 0.6048 - learning_rate: 2.5000e-04\n",
      "Epoch 29/50\n",
      "\u001b[1m110/110\u001b[0m \u001b[32m━━━━━━━━━━━━━━━━━━━━\u001b[0m\u001b[37m\u001b[0m \u001b[1m27s\u001b[0m 242ms/step - F1Score: 0.9815 - accuracy: 0.9832 - loss: 0.0547 - val_F1Score: 0.8295 - val_accuracy: 0.8320 - val_loss: 0.6182 - learning_rate: 2.5000e-04\n",
      "Epoch 30/50\n",
      "\u001b[1m110/110\u001b[0m \u001b[32m━━━━━━━━━━━━━━━━━━━━\u001b[0m\u001b[37m\u001b[0m \u001b[1m27s\u001b[0m 242ms/step - F1Score: 0.9865 - accuracy: 0.9870 - loss: 0.0476 - val_F1Score: 0.8266 - val_accuracy: 0.8272 - val_loss: 0.6177 - learning_rate: 2.5000e-04\n",
      "Epoch 31/50\n",
      "\u001b[1m110/110\u001b[0m \u001b[32m━━━━━━━━━━━━━━━━━━━━\u001b[0m\u001b[37m\u001b[0m \u001b[1m27s\u001b[0m 243ms/step - F1Score: 0.9836 - accuracy: 0.9838 - loss: 0.0485 - val_F1Score: 0.8337 - val_accuracy: 0.8360 - val_loss: 0.6200 - learning_rate: 2.5000e-04\n",
      "Epoch 32/50\n",
      "\u001b[1m110/110\u001b[0m \u001b[32m━━━━━━━━━━━━━━━━━━━━\u001b[0m\u001b[37m\u001b[0m \u001b[1m27s\u001b[0m 243ms/step - F1Score: 0.9901 - accuracy: 0.9903 - loss: 0.0406 - val_F1Score: 0.8277 - val_accuracy: 0.8299 - val_loss: 0.6194 - learning_rate: 2.5000e-04\n",
      "Epoch 33/50\n",
      "\u001b[1m110/110\u001b[0m \u001b[32m━━━━━━━━━━━━━━━━━━━━\u001b[0m\u001b[37m\u001b[0m \u001b[1m27s\u001b[0m 242ms/step - F1Score: 0.9884 - accuracy: 0.9888 - loss: 0.0410 - val_F1Score: 0.8333 - val_accuracy: 0.8347 - val_loss: 0.6270 - learning_rate: 2.5000e-04\n",
      "Epoch 34/50\n",
      "\u001b[1m110/110\u001b[0m \u001b[32m━━━━━━━━━━━━━━━━━━━━\u001b[0m\u001b[37m\u001b[0m \u001b[1m27s\u001b[0m 243ms/step - F1Score: 0.9855 - accuracy: 0.9860 - loss: 0.0465 - val_F1Score: 0.8351 - val_accuracy: 0.8374 - val_loss: 0.6250 - learning_rate: 2.5000e-04\n",
      "Epoch 35/50\n",
      "\u001b[1m110/110\u001b[0m \u001b[32m━━━━━━━━━━━━━━━━━━━━\u001b[0m\u001b[37m\u001b[0m \u001b[1m27s\u001b[0m 243ms/step - F1Score: 0.9881 - accuracy: 0.9882 - loss: 0.0404 - val_F1Score: 0.8347 - val_accuracy: 0.8367 - val_loss: 0.6240 - learning_rate: 1.2500e-04\n",
      "Epoch 36/50\n",
      "\u001b[1m110/110\u001b[0m \u001b[32m━━━━━━━━━━━━━━━━━━━━\u001b[0m\u001b[37m\u001b[0m \u001b[1m27s\u001b[0m 242ms/step - F1Score: 0.9901 - accuracy: 0.9900 - loss: 0.0385 - val_F1Score: 0.8354 - val_accuracy: 0.8374 - val_loss: 0.6323 - learning_rate: 1.2500e-04\n",
      "Epoch 37/50\n",
      "\u001b[1m110/110\u001b[0m \u001b[32m━━━━━━━━━━━━━━━━━━━━\u001b[0m\u001b[37m\u001b[0m \u001b[1m27s\u001b[0m 243ms/step - F1Score: 0.9868 - accuracy: 0.9882 - loss: 0.0413 - val_F1Score: 0.8304 - val_accuracy: 0.8320 - val_loss: 0.6431 - learning_rate: 1.2500e-04\n",
      "Epoch 38/50\n",
      "\u001b[1m110/110\u001b[0m \u001b[32m━━━━━━━━━━━━━━━━━━━━\u001b[0m\u001b[37m\u001b[0m \u001b[1m27s\u001b[0m 243ms/step - F1Score: 0.9942 - accuracy: 0.9943 - loss: 0.0285 - val_F1Score: 0.8371 - val_accuracy: 0.8394 - val_loss: 0.6408 - learning_rate: 1.2500e-04\n",
      "Epoch 39/50\n",
      "\u001b[1m110/110\u001b[0m \u001b[32m━━━━━━━━━━━━━━━━━━━━\u001b[0m\u001b[37m\u001b[0m \u001b[1m27s\u001b[0m 243ms/step - F1Score: 0.9872 - accuracy: 0.9875 - loss: 0.0371 - val_F1Score: 0.8322 - val_accuracy: 0.8340 - val_loss: 0.6455 - learning_rate: 1.2500e-04\n",
      "Epoch 40/50\n",
      "\u001b[1m110/110\u001b[0m \u001b[32m━━━━━━━━━━━━━━━━━━━━\u001b[0m\u001b[37m\u001b[0m \u001b[1m27s\u001b[0m 243ms/step - F1Score: 0.9877 - accuracy: 0.9878 - loss: 0.0377 - val_F1Score: 0.8252 - val_accuracy: 0.8266 - val_loss: 0.6538 - learning_rate: 1.2500e-04\n",
      "Epoch 41/50\n",
      "\u001b[1m110/110\u001b[0m \u001b[32m━━━━━━━━━━━━━━━━━━━━\u001b[0m\u001b[37m\u001b[0m \u001b[1m27s\u001b[0m 243ms/step - F1Score: 0.9906 - accuracy: 0.9908 - loss: 0.0335 - val_F1Score: 0.8301 - val_accuracy: 0.8320 - val_loss: 0.6441 - learning_rate: 1.2500e-04\n",
      "Epoch 42/50\n",
      "\u001b[1m110/110\u001b[0m \u001b[32m━━━━━━━━━━━━━━━━━━━━\u001b[0m\u001b[37m\u001b[0m \u001b[1m27s\u001b[0m 243ms/step - F1Score: 0.9915 - accuracy: 0.9915 - loss: 0.0343 - val_F1Score: 0.8294 - val_accuracy: 0.8313 - val_loss: 0.6566 - learning_rate: 1.2500e-04\n",
      "Epoch 43/50\n",
      "\u001b[1m110/110\u001b[0m \u001b[32m━━━━━━━━━━━━━━━━━━━━\u001b[0m\u001b[37m\u001b[0m \u001b[1m27s\u001b[0m 243ms/step - F1Score: 0.9883 - accuracy: 0.9885 - loss: 0.0378 - val_F1Score: 0.8299 - val_accuracy: 0.8306 - val_loss: 0.6523 - learning_rate: 6.2500e-05\n",
      "Epoch 44/50\n",
      "\u001b[1m110/110\u001b[0m \u001b[32m━━━━━━━━━━━━━━━━━━━━\u001b[0m\u001b[37m\u001b[0m \u001b[1m27s\u001b[0m 243ms/step - F1Score: 0.9878 - accuracy: 0.9879 - loss: 0.0486 - val_F1Score: 0.8310 - val_accuracy: 0.8320 - val_loss: 0.6484 - learning_rate: 6.2500e-05\n",
      "Epoch 45/50\n",
      "\u001b[1m110/110\u001b[0m \u001b[32m━━━━━━━━━━━━━━━━━━━━\u001b[0m\u001b[37m\u001b[0m \u001b[1m27s\u001b[0m 242ms/step - F1Score: 0.9905 - accuracy: 0.9905 - loss: 0.0362 - val_F1Score: 0.8305 - val_accuracy: 0.8320 - val_loss: 0.6550 - learning_rate: 6.2500e-05\n",
      "Epoch 46/50\n",
      "\u001b[1m110/110\u001b[0m \u001b[32m━━━━━━━━━━━━━━━━━━━━\u001b[0m\u001b[37m\u001b[0m \u001b[1m27s\u001b[0m 242ms/step - F1Score: 0.9934 - accuracy: 0.9936 - loss: 0.0233 - val_F1Score: 0.8330 - val_accuracy: 0.8347 - val_loss: 0.6549 - learning_rate: 6.2500e-05\n",
      "Epoch 47/50\n",
      "\u001b[1m110/110\u001b[0m \u001b[32m━━━━━━━━━━━━━━━━━━━━\u001b[0m\u001b[37m\u001b[0m \u001b[1m27s\u001b[0m 243ms/step - F1Score: 0.9877 - accuracy: 0.9881 - loss: 0.0349 - val_F1Score: 0.8257 - val_accuracy: 0.8266 - val_loss: 0.6696 - learning_rate: 6.2500e-05\n",
      "Epoch 48/50\n",
      "\u001b[1m110/110\u001b[0m \u001b[32m━━━━━━━━━━━━━━━━━━━━\u001b[0m\u001b[37m\u001b[0m \u001b[1m27s\u001b[0m 242ms/step - F1Score: 0.9930 - accuracy: 0.9932 - loss: 0.0281 - val_F1Score: 0.8290 - val_accuracy: 0.8299 - val_loss: 0.6661 - learning_rate: 6.2500e-05\n",
      "Epoch 49/50\n",
      "\u001b[1m110/110\u001b[0m \u001b[32m━━━━━━━━━━━━━━━━━━━━\u001b[0m\u001b[37m\u001b[0m \u001b[1m27s\u001b[0m 243ms/step - F1Score: 0.9922 - accuracy: 0.9923 - loss: 0.0272 - val_F1Score: 0.8284 - val_accuracy: 0.8293 - val_loss: 0.6580 - learning_rate: 6.2500e-05\n",
      "Epoch 50/50\n",
      "\u001b[1m110/110\u001b[0m \u001b[32m━━━━━━━━━━━━━━━━━━━━\u001b[0m\u001b[37m\u001b[0m \u001b[1m27s\u001b[0m 242ms/step - F1Score: 0.9922 - accuracy: 0.9924 - loss: 0.0297 - val_F1Score: 0.8304 - val_accuracy: 0.8313 - val_loss: 0.6614 - learning_rate: 6.2500e-05\n"
     ]
    }
   ],
   "source": [
    "model.compile(optimizer=Adam(learning_rate = 0.001, clipnorm= 1.0),\n",
    "                     loss='categorical_crossentropy', \n",
    "                     metrics=['accuracy', 'F1Score'])\n",
    "\n",
    "early_stopping = EarlyStopping(monitor='val_loss', patience=15,restore_best_weights=True, start_from_epoch=50)\n",
    "reduce_lr = ReduceLROnPlateau(monitor='val_loss', factor=0.5, patience=8, min_lr=1e-6)\n",
    "\n",
    "history =  model.fit(X_train, y_train, validation_data=(X_val, y_val), epochs=50, verbose=1, \n",
    "                            callbacks= [early_stopping, reduce_lr])"
   ]
  },
  {
   "cell_type": "code",
   "execution_count": 8,
   "metadata": {},
   "outputs": [],
   "source": [
    "path = '/Users/pimpijnenburg/Desktop/Thesis/USTC_SmokeRS_dataset/code/transfer_learning/trained_models'\n",
    "model_save_path = os.path.join(path, 'resnet_50v2.keras')\n",
    "model.save(model_save_path) "
   ]
  }
 ],
 "metadata": {
  "kernelspec": {
   "display_name": "Python 3",
   "language": "python",
   "name": "python3"
  },
  "language_info": {
   "codemirror_mode": {
    "name": "ipython",
    "version": 3
   },
   "file_extension": ".py",
   "mimetype": "text/x-python",
   "name": "python",
   "nbconvert_exporter": "python",
   "pygments_lexer": "ipython3",
   "version": "3.11.9"
  }
 },
 "nbformat": 4,
 "nbformat_minor": 2
}
